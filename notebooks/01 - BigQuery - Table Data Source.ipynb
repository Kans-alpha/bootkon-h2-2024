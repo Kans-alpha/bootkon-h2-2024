{
 "cells": [
  {
   "cell_type": "markdown",
   "id": "c28f7fa2",
   "metadata": {},
   "source": [
    "# 01 - BigQuery - Table Data Source\n",
    "Use BigQuery to load and prepare data for machine learning:\n"
   ]
  },
  {
   "cell_type": "markdown",
   "id": "5d0c695d-002d-48ca-9d52-839f95fdfee0",
   "metadata": {},
   "source": [
    "---\n",
    "## Source Data\n",
    "`genai-demo-2024.ml_datasets.ulb_fraud_detection`\n",
    "\n",
    "FraudFlix Technologies is a cutting-edge company focused on making financial transactions safer. Using machine learning, FraudFlix analyzes huge amounts of transaction data to spot and stop fraud as it happens. Born from a hackathon challenge, the company uses a special dataset of European credit card transactions to train its algorithms. What sets FraudFlix apart is its approach to continuously testing and improving its fraud detection models by simulating real-world transactions. This innovative strategy is a game-changer in the fight against digital fraud, offering both businesses and consumers a higher level of security. For data engineers and scientists, FraudFlix represents an exciting frontier where AI meets financial safety, showcasing practical applications of their skills to solve real-world problems.\n"
   ]
  },
  {
   "cell_type": "markdown",
   "id": "a5046940",
   "metadata": {},
   "source": [
    "---\n",
    "## Setup"
   ]
  },
  {
   "cell_type": "markdown",
   "id": "a0ae60b2",
   "metadata": {},
   "source": [
    "inputs:"
   ]
  },
  {
   "cell_type": "code",
   "execution_count": 14,
   "id": "d6f0503a-e864-4170-ade9-0ebabd14efcd",
   "metadata": {
    "tags": []
   },
   "outputs": [
    {
     "data": {
      "text/plain": [
       "'bootkon-2024'"
      ]
     },
     "execution_count": 14,
     "metadata": {},
     "output_type": "execute_result"
    }
   ],
   "source": [
    "project = !gcloud config get-value project\n",
    "PROJECT_ID = project[0]\n",
    "PROJECT_ID"
   ]
  },
  {
   "cell_type": "code",
   "execution_count": 29,
   "id": "56a5bc43",
   "metadata": {
    "tags": []
   },
   "outputs": [
    {
     "data": {
      "text/plain": [
       "'bootkon-2024.ml_datasets.ulb_fraud_detection'"
      ]
     },
     "execution_count": 29,
     "metadata": {},
     "output_type": "execute_result"
    }
   ],
   "source": [
    "REGION = 'us-central1'\n",
    "EXPERIMENT = '01'\n",
    "SERIES = '01'\n",
    "\n",
    "# source data\n",
    "BQ_PROJECT = PROJECT_ID\n",
    "BQ_DATASET = 'ml_datasets'\n",
    "BQ_TABLE = 'ulb_fraud_detection'\n",
    "\n",
    "# Data source for this series of notebooks: Described above\n",
    "BQ_SOURCE = f'{BQ_PROJECT}.{BQ_DATASET}.{BQ_TABLE}'\n",
    "BQ_SOURCE\n"
   ]
  },
  {
   "cell_type": "markdown",
   "id": "e4a963be",
   "metadata": {},
   "source": [
    "packages:"
   ]
  },
  {
   "cell_type": "code",
   "execution_count": 33,
   "id": "8a37b83a",
   "metadata": {
    "tags": []
   },
   "outputs": [],
   "source": [
    "from google.cloud import bigquery\n",
    "from google.cloud import storage\n",
    "from google.auth import compute_engine, default\n",
    "import google.auth\n",
    "import google.auth.transport.requests"
   ]
  },
  {
   "cell_type": "markdown",
   "id": "e24cebb6",
   "metadata": {},
   "source": [
    "clients:"
   ]
  },
  {
   "cell_type": "code",
   "execution_count": 17,
   "id": "9e515410",
   "metadata": {
    "tags": []
   },
   "outputs": [],
   "source": [
    "bq = bigquery.Client(project = PROJECT_ID)\n",
    "gcs = storage.Client(project = PROJECT_ID)"
   ]
  },
  {
   "cell_type": "markdown",
   "id": "a6601398",
   "metadata": {},
   "source": [
    "parameters:"
   ]
  },
  {
   "cell_type": "code",
   "execution_count": 18,
   "id": "1f1e2af3",
   "metadata": {
    "tags": []
   },
   "outputs": [],
   "source": [
    "BUCKET = PROJECT_ID"
   ]
  },
  {
   "cell_type": "markdown",
   "id": "44285e37-6ac7-478d-9709-dd11a068a4dc",
   "metadata": {},
   "source": [
    "### Retrieve and Review a Sample From The Table:\n",
    "> **Note:** The `LIMIT 5` statement does limit the number of rows returned by BigQuery to 5 but BigQuery still does a full table scan.  If you have a table larger than 1GB and want to limit the rows scanned for a quick review like then then replacing `LIMIT 5` with `TABLESAMPLE SYSTEM (1 PERCENT)` would be more efficient.  For tables under 1GB it will still return the full table.  More on [Table Sampling](https://cloud.google.com/bigquery/docs/table-sampling)"
   ]
  },
  {
   "cell_type": "code",
   "execution_count": 19,
   "id": "11924cf8-a040-4ee5-85ae-788cba106b56",
   "metadata": {
    "tags": []
   },
   "outputs": [
    {
     "data": {
      "text/html": [
       "<div>\n",
       "<style scoped>\n",
       "    .dataframe tbody tr th:only-of-type {\n",
       "        vertical-align: middle;\n",
       "    }\n",
       "\n",
       "    .dataframe tbody tr th {\n",
       "        vertical-align: top;\n",
       "    }\n",
       "\n",
       "    .dataframe thead th {\n",
       "        text-align: right;\n",
       "    }\n",
       "</style>\n",
       "<table border=\"1\" class=\"dataframe\">\n",
       "  <thead>\n",
       "    <tr style=\"text-align: right;\">\n",
       "      <th></th>\n",
       "      <th>Time</th>\n",
       "      <th>V1</th>\n",
       "      <th>V2</th>\n",
       "      <th>V3</th>\n",
       "      <th>V4</th>\n",
       "      <th>V5</th>\n",
       "      <th>V6</th>\n",
       "      <th>V7</th>\n",
       "      <th>V8</th>\n",
       "      <th>V9</th>\n",
       "      <th>...</th>\n",
       "      <th>V22</th>\n",
       "      <th>V23</th>\n",
       "      <th>V24</th>\n",
       "      <th>V25</th>\n",
       "      <th>V26</th>\n",
       "      <th>V27</th>\n",
       "      <th>V28</th>\n",
       "      <th>Amount</th>\n",
       "      <th>Class</th>\n",
       "      <th>Feedback</th>\n",
       "    </tr>\n",
       "  </thead>\n",
       "  <tbody>\n",
       "    <tr>\n",
       "      <th>0</th>\n",
       "      <td>129734.0</td>\n",
       "      <td>-0.198813</td>\n",
       "      <td>0.119392</td>\n",
       "      <td>-2.298735</td>\n",
       "      <td>-3.528636</td>\n",
       "      <td>2.546113</td>\n",
       "      <td>-0.665831</td>\n",
       "      <td>1.333913</td>\n",
       "      <td>-1.335041</td>\n",
       "      <td>1.237487</td>\n",
       "      <td>...</td>\n",
       "      <td>2.033783</td>\n",
       "      <td>-0.170016</td>\n",
       "      <td>-0.234512</td>\n",
       "      <td>-1.053772</td>\n",
       "      <td>-0.789069</td>\n",
       "      <td>0.237179</td>\n",
       "      <td>0.056104</td>\n",
       "      <td>18.0</td>\n",
       "      <td>0</td>\n",
       "      <td>very satisfied.</td>\n",
       "    </tr>\n",
       "    <tr>\n",
       "      <th>1</th>\n",
       "      <td>66178.0</td>\n",
       "      <td>-1.185420</td>\n",
       "      <td>0.077870</td>\n",
       "      <td>0.506246</td>\n",
       "      <td>-1.595231</td>\n",
       "      <td>1.936669</td>\n",
       "      <td>4.059180</td>\n",
       "      <td>-0.474315</td>\n",
       "      <td>0.968808</td>\n",
       "      <td>-0.477701</td>\n",
       "      <td>...</td>\n",
       "      <td>-0.673663</td>\n",
       "      <td>-0.193302</td>\n",
       "      <td>0.968871</td>\n",
       "      <td>0.415615</td>\n",
       "      <td>-0.533667</td>\n",
       "      <td>-0.687462</td>\n",
       "      <td>-0.419359</td>\n",
       "      <td>3.5</td>\n",
       "      <td>0</td>\n",
       "      <td>very satisfied.</td>\n",
       "    </tr>\n",
       "    <tr>\n",
       "      <th>2</th>\n",
       "      <td>136008.0</td>\n",
       "      <td>-0.136433</td>\n",
       "      <td>0.560053</td>\n",
       "      <td>0.845477</td>\n",
       "      <td>-0.627512</td>\n",
       "      <td>0.634112</td>\n",
       "      <td>0.315149</td>\n",
       "      <td>0.002208</td>\n",
       "      <td>0.205000</td>\n",
       "      <td>0.350898</td>\n",
       "      <td>...</td>\n",
       "      <td>0.140333</td>\n",
       "      <td>-0.068317</td>\n",
       "      <td>-0.031056</td>\n",
       "      <td>-0.462808</td>\n",
       "      <td>0.346058</td>\n",
       "      <td>0.075857</td>\n",
       "      <td>0.091283</td>\n",
       "      <td>12.0</td>\n",
       "      <td>0</td>\n",
       "      <td>very satisfied.</td>\n",
       "    </tr>\n",
       "    <tr>\n",
       "      <th>3</th>\n",
       "      <td>127121.0</td>\n",
       "      <td>2.202015</td>\n",
       "      <td>-0.354462</td>\n",
       "      <td>-1.794030</td>\n",
       "      <td>-0.656392</td>\n",
       "      <td>-0.169861</td>\n",
       "      <td>-1.455671</td>\n",
       "      <td>-0.079688</td>\n",
       "      <td>-0.449250</td>\n",
       "      <td>-0.652293</td>\n",
       "      <td>...</td>\n",
       "      <td>0.016810</td>\n",
       "      <td>0.158392</td>\n",
       "      <td>-0.155432</td>\n",
       "      <td>0.010322</td>\n",
       "      <td>-0.274131</td>\n",
       "      <td>-0.017045</td>\n",
       "      <td>-0.035063</td>\n",
       "      <td>15.0</td>\n",
       "      <td>0</td>\n",
       "      <td>very satisfied.</td>\n",
       "    </tr>\n",
       "    <tr>\n",
       "      <th>4</th>\n",
       "      <td>132681.0</td>\n",
       "      <td>2.330940</td>\n",
       "      <td>-1.438089</td>\n",
       "      <td>-1.209158</td>\n",
       "      <td>-1.622624</td>\n",
       "      <td>-1.114463</td>\n",
       "      <td>-0.547751</td>\n",
       "      <td>-1.156816</td>\n",
       "      <td>-0.104808</td>\n",
       "      <td>-0.974543</td>\n",
       "      <td>...</td>\n",
       "      <td>-0.203493</td>\n",
       "      <td>0.247454</td>\n",
       "      <td>0.409652</td>\n",
       "      <td>-0.164476</td>\n",
       "      <td>-0.172364</td>\n",
       "      <td>-0.007331</td>\n",
       "      <td>-0.050971</td>\n",
       "      <td>15.0</td>\n",
       "      <td>0</td>\n",
       "      <td>very satisfied.</td>\n",
       "    </tr>\n",
       "    <tr>\n",
       "      <th>...</th>\n",
       "      <td>...</td>\n",
       "      <td>...</td>\n",
       "      <td>...</td>\n",
       "      <td>...</td>\n",
       "      <td>...</td>\n",
       "      <td>...</td>\n",
       "      <td>...</td>\n",
       "      <td>...</td>\n",
       "      <td>...</td>\n",
       "      <td>...</td>\n",
       "      <td>...</td>\n",
       "      <td>...</td>\n",
       "      <td>...</td>\n",
       "      <td>...</td>\n",
       "      <td>...</td>\n",
       "      <td>...</td>\n",
       "      <td>...</td>\n",
       "      <td>...</td>\n",
       "      <td>...</td>\n",
       "      <td>...</td>\n",
       "      <td>...</td>\n",
       "    </tr>\n",
       "    <tr>\n",
       "      <th>190919</th>\n",
       "      <td>43222.0</td>\n",
       "      <td>1.258223</td>\n",
       "      <td>0.167619</td>\n",
       "      <td>-0.279844</td>\n",
       "      <td>0.860342</td>\n",
       "      <td>0.801559</td>\n",
       "      <td>1.142473</td>\n",
       "      <td>-0.050596</td>\n",
       "      <td>0.218743</td>\n",
       "      <td>0.081478</td>\n",
       "      <td>...</td>\n",
       "      <td>-0.221026</td>\n",
       "      <td>-0.287056</td>\n",
       "      <td>-1.677702</td>\n",
       "      <td>0.881971</td>\n",
       "      <td>-0.223809</td>\n",
       "      <td>0.038173</td>\n",
       "      <td>-0.011976</td>\n",
       "      <td>1.0</td>\n",
       "      <td>0</td>\n",
       "      <td>Very happy with the quick and efficient service.</td>\n",
       "    </tr>\n",
       "    <tr>\n",
       "      <th>190920</th>\n",
       "      <td>45780.0</td>\n",
       "      <td>-0.641757</td>\n",
       "      <td>1.754101</td>\n",
       "      <td>0.365990</td>\n",
       "      <td>1.069202</td>\n",
       "      <td>0.085786</td>\n",
       "      <td>-1.072297</td>\n",
       "      <td>0.515913</td>\n",
       "      <td>0.293245</td>\n",
       "      <td>-0.771182</td>\n",
       "      <td>...</td>\n",
       "      <td>0.280179</td>\n",
       "      <td>-0.145002</td>\n",
       "      <td>0.282845</td>\n",
       "      <td>-0.169995</td>\n",
       "      <td>-0.314329</td>\n",
       "      <td>0.311588</td>\n",
       "      <td>0.193703</td>\n",
       "      <td>1.0</td>\n",
       "      <td>0</td>\n",
       "      <td>Very happy with the quick and efficient service.</td>\n",
       "    </tr>\n",
       "    <tr>\n",
       "      <th>190921</th>\n",
       "      <td>49696.0</td>\n",
       "      <td>-7.688513</td>\n",
       "      <td>6.937304</td>\n",
       "      <td>-6.129807</td>\n",
       "      <td>1.398866</td>\n",
       "      <td>-4.860853</td>\n",
       "      <td>-1.687377</td>\n",
       "      <td>-5.103604</td>\n",
       "      <td>6.426214</td>\n",
       "      <td>-1.824883</td>\n",
       "      <td>...</td>\n",
       "      <td>0.125162</td>\n",
       "      <td>0.876694</td>\n",
       "      <td>0.248950</td>\n",
       "      <td>0.271167</td>\n",
       "      <td>-0.394922</td>\n",
       "      <td>-2.738739</td>\n",
       "      <td>-0.638291</td>\n",
       "      <td>1.0</td>\n",
       "      <td>0</td>\n",
       "      <td>Very happy with the quick and efficient service.</td>\n",
       "    </tr>\n",
       "    <tr>\n",
       "      <th>190922</th>\n",
       "      <td>51685.0</td>\n",
       "      <td>1.121443</td>\n",
       "      <td>-0.831631</td>\n",
       "      <td>1.633054</td>\n",
       "      <td>0.633309</td>\n",
       "      <td>-1.621314</td>\n",
       "      <td>0.658897</td>\n",
       "      <td>-1.395933</td>\n",
       "      <td>0.546871</td>\n",
       "      <td>2.247837</td>\n",
       "      <td>...</td>\n",
       "      <td>0.074048</td>\n",
       "      <td>0.030859</td>\n",
       "      <td>0.140410</td>\n",
       "      <td>0.116644</td>\n",
       "      <td>1.164445</td>\n",
       "      <td>0.008750</td>\n",
       "      <td>0.008052</td>\n",
       "      <td>1.0</td>\n",
       "      <td>0</td>\n",
       "      <td>Very happy with the quick and efficient service.</td>\n",
       "    </tr>\n",
       "    <tr>\n",
       "      <th>190923</th>\n",
       "      <td>79204.0</td>\n",
       "      <td>1.282986</td>\n",
       "      <td>-0.447437</td>\n",
       "      <td>0.192475</td>\n",
       "      <td>-1.303210</td>\n",
       "      <td>-0.065571</td>\n",
       "      <td>0.974599</td>\n",
       "      <td>-0.746796</td>\n",
       "      <td>0.326812</td>\n",
       "      <td>1.579450</td>\n",
       "      <td>...</td>\n",
       "      <td>0.175295</td>\n",
       "      <td>-0.239965</td>\n",
       "      <td>-1.669063</td>\n",
       "      <td>0.649625</td>\n",
       "      <td>-0.569292</td>\n",
       "      <td>0.108236</td>\n",
       "      <td>0.005552</td>\n",
       "      <td>1.0</td>\n",
       "      <td>0</td>\n",
       "      <td>Very happy with the quick and efficient service.</td>\n",
       "    </tr>\n",
       "  </tbody>\n",
       "</table>\n",
       "<p>190924 rows × 32 columns</p>\n",
       "</div>"
      ],
      "text/plain": [
       "            Time        V1        V2        V3        V4        V5        V6  \\\n",
       "0       129734.0 -0.198813  0.119392 -2.298735 -3.528636  2.546113 -0.665831   \n",
       "1        66178.0 -1.185420  0.077870  0.506246 -1.595231  1.936669  4.059180   \n",
       "2       136008.0 -0.136433  0.560053  0.845477 -0.627512  0.634112  0.315149   \n",
       "3       127121.0  2.202015 -0.354462 -1.794030 -0.656392 -0.169861 -1.455671   \n",
       "4       132681.0  2.330940 -1.438089 -1.209158 -1.622624 -1.114463 -0.547751   \n",
       "...          ...       ...       ...       ...       ...       ...       ...   \n",
       "190919   43222.0  1.258223  0.167619 -0.279844  0.860342  0.801559  1.142473   \n",
       "190920   45780.0 -0.641757  1.754101  0.365990  1.069202  0.085786 -1.072297   \n",
       "190921   49696.0 -7.688513  6.937304 -6.129807  1.398866 -4.860853 -1.687377   \n",
       "190922   51685.0  1.121443 -0.831631  1.633054  0.633309 -1.621314  0.658897   \n",
       "190923   79204.0  1.282986 -0.447437  0.192475 -1.303210 -0.065571  0.974599   \n",
       "\n",
       "              V7        V8        V9  ...       V22       V23       V24  \\\n",
       "0       1.333913 -1.335041  1.237487  ...  2.033783 -0.170016 -0.234512   \n",
       "1      -0.474315  0.968808 -0.477701  ... -0.673663 -0.193302  0.968871   \n",
       "2       0.002208  0.205000  0.350898  ...  0.140333 -0.068317 -0.031056   \n",
       "3      -0.079688 -0.449250 -0.652293  ...  0.016810  0.158392 -0.155432   \n",
       "4      -1.156816 -0.104808 -0.974543  ... -0.203493  0.247454  0.409652   \n",
       "...          ...       ...       ...  ...       ...       ...       ...   \n",
       "190919 -0.050596  0.218743  0.081478  ... -0.221026 -0.287056 -1.677702   \n",
       "190920  0.515913  0.293245 -0.771182  ...  0.280179 -0.145002  0.282845   \n",
       "190921 -5.103604  6.426214 -1.824883  ...  0.125162  0.876694  0.248950   \n",
       "190922 -1.395933  0.546871  2.247837  ...  0.074048  0.030859  0.140410   \n",
       "190923 -0.746796  0.326812  1.579450  ...  0.175295 -0.239965 -1.669063   \n",
       "\n",
       "             V25       V26       V27       V28  Amount  Class  \\\n",
       "0      -1.053772 -0.789069  0.237179  0.056104    18.0      0   \n",
       "1       0.415615 -0.533667 -0.687462 -0.419359     3.5      0   \n",
       "2      -0.462808  0.346058  0.075857  0.091283    12.0      0   \n",
       "3       0.010322 -0.274131 -0.017045 -0.035063    15.0      0   \n",
       "4      -0.164476 -0.172364 -0.007331 -0.050971    15.0      0   \n",
       "...          ...       ...       ...       ...     ...    ...   \n",
       "190919  0.881971 -0.223809  0.038173 -0.011976     1.0      0   \n",
       "190920 -0.169995 -0.314329  0.311588  0.193703     1.0      0   \n",
       "190921  0.271167 -0.394922 -2.738739 -0.638291     1.0      0   \n",
       "190922  0.116644  1.164445  0.008750  0.008052     1.0      0   \n",
       "190923  0.649625 -0.569292  0.108236  0.005552     1.0      0   \n",
       "\n",
       "                                                Feedback  \n",
       "0                                        very satisfied.  \n",
       "1                                        very satisfied.  \n",
       "2                                        very satisfied.  \n",
       "3                                        very satisfied.  \n",
       "4                                        very satisfied.  \n",
       "...                                                  ...  \n",
       "190919  Very happy with the quick and efficient service.  \n",
       "190920  Very happy with the quick and efficient service.  \n",
       "190921  Very happy with the quick and efficient service.  \n",
       "190922  Very happy with the quick and efficient service.  \n",
       "190923  Very happy with the quick and efficient service.  \n",
       "\n",
       "[190924 rows x 32 columns]"
      ]
     },
     "execution_count": 19,
     "metadata": {},
     "output_type": "execute_result"
    }
   ],
   "source": [
    "query = f\"\"\"\n",
    "SELECT *\n",
    "FROM `{BQ_PROJECT}.{BQ_DATASET}.{BQ_TABLE}` TABLESAMPLE SYSTEM (1 PERCENT)\n",
    "#LIMIT 5\n",
    "\"\"\"\n",
    "bq.query(query = query).to_dataframe()"
   ]
  },
  {
   "cell_type": "markdown",
   "id": "e85ccdce-e6a9-4735-9997-e5ae77a6f86c",
   "metadata": {},
   "source": [
    "### Check out this table in BigQuery Console:\n",
    "- Click: https://console.cloud.google.com/bigquery\n",
    "- Make sure project selected is the one from this notebook\n",
    "- Under Explore, expand this project and review the dataset and table"
   ]
  },
  {
   "cell_type": "code",
   "execution_count": 20,
   "id": "d439a1dc-dfdd-4c82-8302-8dc1ffe44d28",
   "metadata": {
    "tags": []
   },
   "outputs": [
    {
     "name": "stdout",
     "output_type": "stream",
     "text": [
      "Direct Link To This Project In BigQuery:\n",
      "https://console.cloud.google.com/bigquery?project=bootkon-2024\n"
     ]
    }
   ],
   "source": [
    "print(f\"Direct Link To This Project In BigQuery:\\nhttps://console.cloud.google.com/bigquery?project={PROJECT_ID}\")"
   ]
  },
  {
   "cell_type": "markdown",
   "id": "2f133efb-8232-4b21-814f-23b815dc60f2",
   "metadata": {},
   "source": [
    "---\n",
    "## Review Data in BigQuery\n",
    "Additional SQL queries could be used to review the data.  This section shows moving the table to a Pandas dataframe for local review in Python:\n",
    "\n",
    "> **Note:** <p>This query only selects one column.  This means BigQuery scans less data as it does not process the other columns.  </p>"
   ]
  },
  {
   "cell_type": "code",
   "execution_count": 21,
   "id": "f4ebf6f5-a178-4011-9ab6-fa8329c578c9",
   "metadata": {
    "tags": []
   },
   "outputs": [],
   "source": [
    "query = f\"\"\"\n",
    "SELECT Class\n",
    "FROM `{BQ_PROJECT}.{BQ_DATASET}.{BQ_TABLE}`\n",
    "\"\"\"\n",
    "df = bq.query(query = query).to_dataframe()"
   ]
  },
  {
   "cell_type": "code",
   "execution_count": 22,
   "id": "674f716e-8b9d-4c92-9b46-c166b869f6ae",
   "metadata": {
    "tags": []
   },
   "outputs": [
    {
     "data": {
      "text/plain": [
       "Class\n",
       "0    566726\n",
       "1       514\n",
       "Name: count, dtype: Int64"
      ]
     },
     "execution_count": 22,
     "metadata": {},
     "output_type": "execute_result"
    }
   ],
   "source": [
    "df['Class'].value_counts()"
   ]
  },
  {
   "cell_type": "code",
   "execution_count": 23,
   "id": "ba5d17e5-07c3-48fd-b682-aa471f3548f2",
   "metadata": {
    "tags": []
   },
   "outputs": [
    {
     "data": {
      "text/plain": [
       "Class\n",
       "0    0.999094\n",
       "1    0.000906\n",
       "Name: proportion, dtype: Float64"
      ]
     },
     "execution_count": 23,
     "metadata": {},
     "output_type": "execute_result"
    }
   ],
   "source": [
    "df['Class'].value_counts(normalize=True)"
   ]
  },
  {
   "cell_type": "markdown",
   "id": "35b34894",
   "metadata": {},
   "source": [
    "---\n",
    "## Prepare Data for Analysis"
   ]
  },
  {
   "cell_type": "markdown",
   "id": "4c982157",
   "metadata": {},
   "source": [
    "Create a prepped version of the data with test/train splits using SQL DDL:"
   ]
  },
  {
   "cell_type": "code",
   "execution_count": 34,
   "id": "a50becbb-60ab-45f9-acd5-9beb5b6755f0",
   "metadata": {
    "tags": []
   },
   "outputs": [
    {
     "name": "stdout",
     "output_type": "stream",
     "text": [
      "112412469323-compute@developer.gserviceaccount.com\n"
     ]
    },
    {
     "data": {
      "text/plain": [
       "<google.cloud.bigquery.table._EmptyRowIterator at 0x7fa36a8f01c0>"
      ]
     },
     "execution_count": 34,
     "metadata": {},
     "output_type": "execute_result"
    }
   ],
   "source": [
    "# Construct a BigQuery client object.\n",
    "client = bigquery.Client()\n",
    "\n",
    "# Get the credentials of the current environment, which should be the service account\n",
    "credentials, project = default()\n",
    "request = google.auth.transport.requests.Request()\n",
    "credentials.refresh(request=request)\n",
    "print(credentials.service_account_email) \n",
    "service_account_email = credentials.service_account_email\n",
    "\n",
    "query = f\"\"\"\n",
    "CREATE OR REPLACE TABLE `{BQ_PROJECT}.{BQ_DATASET}.{BQ_TABLE}_prepped` AS\n",
    "WITH add_id AS(SELECT *, GENERATE_UUID() transaction_id FROM `{BQ_PROJECT}.{BQ_DATASET}.{BQ_TABLE}`)\n",
    "SELECT *,\n",
    "    CASE \n",
    "        WHEN MOD(ABS(FARM_FINGERPRINT(transaction_id)),10) < 8 THEN \"TRAIN\" \n",
    "        WHEN MOD(ABS(FARM_FINGERPRINT(transaction_id)),10) < 9 THEN \"VALIDATE\"\n",
    "        ELSE \"TEST\"\n",
    "    END AS splits,\n",
    "     \"{service_account_email}\" as service_account_email\n",
    "FROM add_id\n",
    "\"\"\"\n",
    "job = bq.query(query = query)\n",
    "job.result()"
   ]
  },
  {
   "cell_type": "code",
   "execution_count": 35,
   "id": "77d6e2a9-ec35-477c-9d50-429326acc41d",
   "metadata": {
    "tags": []
   },
   "outputs": [
    {
     "data": {
      "text/plain": [
       "13.984"
      ]
     },
     "execution_count": 35,
     "metadata": {},
     "output_type": "execute_result"
    }
   ],
   "source": [
    "(job.ended-job.started).total_seconds()"
   ]
  },
  {
   "cell_type": "code",
   "execution_count": 36,
   "id": "a991ff73-a545-4eed-a709-b8292efd89ca",
   "metadata": {
    "tags": []
   },
   "outputs": [
    {
     "name": "stdout",
     "output_type": "stream",
     "text": [
      "158.771085 MB\n"
     ]
    }
   ],
   "source": [
    "if job.estimated_bytes_processed:\n",
    "    print(f'{job.estimated_bytes_processed/1000000} MB')"
   ]
  },
  {
   "cell_type": "markdown",
   "id": "372b2c41",
   "metadata": {},
   "source": [
    "Review the test/train split:"
   ]
  },
  {
   "cell_type": "code",
   "execution_count": 37,
   "id": "4a94adb9-81d7-4710-ac50-e0d93dd5523a",
   "metadata": {
    "tags": []
   },
   "outputs": [
    {
     "data": {
      "text/html": [
       "<div>\n",
       "<style scoped>\n",
       "    .dataframe tbody tr th:only-of-type {\n",
       "        vertical-align: middle;\n",
       "    }\n",
       "\n",
       "    .dataframe tbody tr th {\n",
       "        vertical-align: top;\n",
       "    }\n",
       "\n",
       "    .dataframe thead th {\n",
       "        text-align: right;\n",
       "    }\n",
       "</style>\n",
       "<table border=\"1\" class=\"dataframe\">\n",
       "  <thead>\n",
       "    <tr style=\"text-align: right;\">\n",
       "      <th></th>\n",
       "      <th>splits</th>\n",
       "      <th>Count</th>\n",
       "      <th>Percentage</th>\n",
       "    </tr>\n",
       "  </thead>\n",
       "  <tbody>\n",
       "    <tr>\n",
       "      <th>0</th>\n",
       "      <td>VALIDATE</td>\n",
       "      <td>56538</td>\n",
       "      <td>9.967210</td>\n",
       "    </tr>\n",
       "    <tr>\n",
       "      <th>1</th>\n",
       "      <td>TEST</td>\n",
       "      <td>56587</td>\n",
       "      <td>9.975848</td>\n",
       "    </tr>\n",
       "    <tr>\n",
       "      <th>2</th>\n",
       "      <td>TRAIN</td>\n",
       "      <td>454115</td>\n",
       "      <td>80.056942</td>\n",
       "    </tr>\n",
       "  </tbody>\n",
       "</table>\n",
       "</div>"
      ],
      "text/plain": [
       "     splits   Count  Percentage\n",
       "0  VALIDATE   56538    9.967210\n",
       "1      TEST   56587    9.975848\n",
       "2     TRAIN  454115   80.056942"
      ]
     },
     "execution_count": 37,
     "metadata": {},
     "output_type": "execute_result"
    }
   ],
   "source": [
    "query = f\"\"\"\n",
    "SELECT splits, count(*) as Count, 100*count(*) / (sum(count(*)) OVER()) as Percentage\n",
    "FROM `{BQ_PROJECT}.{BQ_DATASET}.{BQ_TABLE}_prepped`\n",
    "GROUP BY splits\n",
    "\"\"\"\n",
    "bq.query(query = query).to_dataframe()"
   ]
  },
  {
   "cell_type": "markdown",
   "id": "3006ed11",
   "metadata": {},
   "source": [
    "Retrieve a subset of the data to a Pandas dataframe:"
   ]
  },
  {
   "cell_type": "code",
   "execution_count": 38,
   "id": "2ea70141-07db-46b0-a31e-0968befcd37b",
   "metadata": {
    "tags": []
   },
   "outputs": [],
   "source": [
    "query = f\"\"\"\n",
    "SELECT * \n",
    "FROM `{BQ_PROJECT}.{BQ_DATASET}.{BQ_TABLE}_prepped`\n",
    "LIMIT 5\n",
    "\"\"\"\n",
    "data = bq.query(query = query).to_dataframe()"
   ]
  },
  {
   "cell_type": "code",
   "execution_count": 39,
   "id": "326d2b3d",
   "metadata": {
    "tags": []
   },
   "outputs": [
    {
     "data": {
      "text/html": [
       "<div>\n",
       "<style scoped>\n",
       "    .dataframe tbody tr th:only-of-type {\n",
       "        vertical-align: middle;\n",
       "    }\n",
       "\n",
       "    .dataframe tbody tr th {\n",
       "        vertical-align: top;\n",
       "    }\n",
       "\n",
       "    .dataframe thead th {\n",
       "        text-align: right;\n",
       "    }\n",
       "</style>\n",
       "<table border=\"1\" class=\"dataframe\">\n",
       "  <thead>\n",
       "    <tr style=\"text-align: right;\">\n",
       "      <th></th>\n",
       "      <th>Time</th>\n",
       "      <th>V1</th>\n",
       "      <th>V2</th>\n",
       "      <th>V3</th>\n",
       "      <th>V4</th>\n",
       "      <th>V5</th>\n",
       "      <th>V6</th>\n",
       "      <th>V7</th>\n",
       "      <th>V8</th>\n",
       "      <th>V9</th>\n",
       "      <th>...</th>\n",
       "      <th>V25</th>\n",
       "      <th>V26</th>\n",
       "      <th>V27</th>\n",
       "      <th>V28</th>\n",
       "      <th>Amount</th>\n",
       "      <th>Class</th>\n",
       "      <th>Feedback</th>\n",
       "      <th>transaction_id</th>\n",
       "      <th>splits</th>\n",
       "      <th>service_account_email</th>\n",
       "    </tr>\n",
       "  </thead>\n",
       "  <tbody>\n",
       "    <tr>\n",
       "      <th>0</th>\n",
       "      <td>127323.0</td>\n",
       "      <td>1.818257</td>\n",
       "      <td>-1.181901</td>\n",
       "      <td>-0.289175</td>\n",
       "      <td>-1.304134</td>\n",
       "      <td>-1.400012</td>\n",
       "      <td>-0.859518</td>\n",
       "      <td>-0.775266</td>\n",
       "      <td>-0.062561</td>\n",
       "      <td>2.476560</td>\n",
       "      <td>...</td>\n",
       "      <td>-0.425863</td>\n",
       "      <td>-0.314204</td>\n",
       "      <td>0.036422</td>\n",
       "      <td>-0.015001</td>\n",
       "      <td>111.879997</td>\n",
       "      <td>0</td>\n",
       "      <td>very satisfied.</td>\n",
       "      <td>eef4e549-a8b7-4441-80d3-92708dc61a43</td>\n",
       "      <td>TRAIN</td>\n",
       "      <td>112412469323-compute@developer.gserviceaccount...</td>\n",
       "    </tr>\n",
       "    <tr>\n",
       "      <th>1</th>\n",
       "      <td>127323.0</td>\n",
       "      <td>1.818257</td>\n",
       "      <td>-1.181901</td>\n",
       "      <td>-0.289175</td>\n",
       "      <td>-1.304134</td>\n",
       "      <td>-1.400012</td>\n",
       "      <td>-0.859518</td>\n",
       "      <td>-0.775266</td>\n",
       "      <td>-0.062561</td>\n",
       "      <td>2.476560</td>\n",
       "      <td>...</td>\n",
       "      <td>-0.425863</td>\n",
       "      <td>-0.314204</td>\n",
       "      <td>0.036422</td>\n",
       "      <td>-0.015001</td>\n",
       "      <td>111.879997</td>\n",
       "      <td>0</td>\n",
       "      <td>very satisfied.</td>\n",
       "      <td>a98f9aaf-4e4b-4cbf-ba77-0b6e1fa3bbd7</td>\n",
       "      <td>TRAIN</td>\n",
       "      <td>112412469323-compute@developer.gserviceaccount...</td>\n",
       "    </tr>\n",
       "    <tr>\n",
       "      <th>2</th>\n",
       "      <td>67330.0</td>\n",
       "      <td>-1.546480</td>\n",
       "      <td>-0.099199</td>\n",
       "      <td>1.942447</td>\n",
       "      <td>-0.465494</td>\n",
       "      <td>-0.833492</td>\n",
       "      <td>0.047766</td>\n",
       "      <td>-0.313571</td>\n",
       "      <td>0.784546</td>\n",
       "      <td>-1.723019</td>\n",
       "      <td>...</td>\n",
       "      <td>0.281043</td>\n",
       "      <td>-0.384568</td>\n",
       "      <td>-0.058858</td>\n",
       "      <td>-0.056459</td>\n",
       "      <td>98.000000</td>\n",
       "      <td>0</td>\n",
       "      <td>very satisfied.</td>\n",
       "      <td>37e9a5ef-c79c-448e-8bcf-11b007c6e5d7</td>\n",
       "      <td>TRAIN</td>\n",
       "      <td>112412469323-compute@developer.gserviceaccount...</td>\n",
       "    </tr>\n",
       "    <tr>\n",
       "      <th>3</th>\n",
       "      <td>67330.0</td>\n",
       "      <td>-1.546480</td>\n",
       "      <td>-0.099199</td>\n",
       "      <td>1.942447</td>\n",
       "      <td>-0.465494</td>\n",
       "      <td>-0.833492</td>\n",
       "      <td>0.047766</td>\n",
       "      <td>-0.313571</td>\n",
       "      <td>0.784546</td>\n",
       "      <td>-1.723019</td>\n",
       "      <td>...</td>\n",
       "      <td>0.281043</td>\n",
       "      <td>-0.384568</td>\n",
       "      <td>-0.058858</td>\n",
       "      <td>-0.056459</td>\n",
       "      <td>98.000000</td>\n",
       "      <td>0</td>\n",
       "      <td>very satisfied.</td>\n",
       "      <td>9bf88594-6a72-45d8-bc7e-20025ba6cd20</td>\n",
       "      <td>TRAIN</td>\n",
       "      <td>112412469323-compute@developer.gserviceaccount...</td>\n",
       "    </tr>\n",
       "    <tr>\n",
       "      <th>4</th>\n",
       "      <td>141467.0</td>\n",
       "      <td>-0.695235</td>\n",
       "      <td>0.718616</td>\n",
       "      <td>0.478503</td>\n",
       "      <td>-1.115864</td>\n",
       "      <td>1.230763</td>\n",
       "      <td>0.188936</td>\n",
       "      <td>1.356451</td>\n",
       "      <td>-0.098282</td>\n",
       "      <td>-2.325237</td>\n",
       "      <td>...</td>\n",
       "      <td>1.313624</td>\n",
       "      <td>-0.476009</td>\n",
       "      <td>0.005203</td>\n",
       "      <td>0.034324</td>\n",
       "      <td>39.400002</td>\n",
       "      <td>0</td>\n",
       "      <td>very satisfied.</td>\n",
       "      <td>3e64a3f3-f284-4e37-a68a-51659f6ecc9a</td>\n",
       "      <td>VALIDATE</td>\n",
       "      <td>112412469323-compute@developer.gserviceaccount...</td>\n",
       "    </tr>\n",
       "  </tbody>\n",
       "</table>\n",
       "<p>5 rows × 35 columns</p>\n",
       "</div>"
      ],
      "text/plain": [
       "       Time        V1        V2        V3        V4        V5        V6  \\\n",
       "0  127323.0  1.818257 -1.181901 -0.289175 -1.304134 -1.400012 -0.859518   \n",
       "1  127323.0  1.818257 -1.181901 -0.289175 -1.304134 -1.400012 -0.859518   \n",
       "2   67330.0 -1.546480 -0.099199  1.942447 -0.465494 -0.833492  0.047766   \n",
       "3   67330.0 -1.546480 -0.099199  1.942447 -0.465494 -0.833492  0.047766   \n",
       "4  141467.0 -0.695235  0.718616  0.478503 -1.115864  1.230763  0.188936   \n",
       "\n",
       "         V7        V8        V9  ...       V25       V26       V27       V28  \\\n",
       "0 -0.775266 -0.062561  2.476560  ... -0.425863 -0.314204  0.036422 -0.015001   \n",
       "1 -0.775266 -0.062561  2.476560  ... -0.425863 -0.314204  0.036422 -0.015001   \n",
       "2 -0.313571  0.784546 -1.723019  ...  0.281043 -0.384568 -0.058858 -0.056459   \n",
       "3 -0.313571  0.784546 -1.723019  ...  0.281043 -0.384568 -0.058858 -0.056459   \n",
       "4  1.356451 -0.098282 -2.325237  ...  1.313624 -0.476009  0.005203  0.034324   \n",
       "\n",
       "       Amount  Class          Feedback                        transaction_id  \\\n",
       "0  111.879997      0   very satisfied.  eef4e549-a8b7-4441-80d3-92708dc61a43   \n",
       "1  111.879997      0   very satisfied.  a98f9aaf-4e4b-4cbf-ba77-0b6e1fa3bbd7   \n",
       "2   98.000000      0   very satisfied.  37e9a5ef-c79c-448e-8bcf-11b007c6e5d7   \n",
       "3   98.000000      0   very satisfied.  9bf88594-6a72-45d8-bc7e-20025ba6cd20   \n",
       "4   39.400002      0   very satisfied.  3e64a3f3-f284-4e37-a68a-51659f6ecc9a   \n",
       "\n",
       "     splits                              service_account_email  \n",
       "0     TRAIN  112412469323-compute@developer.gserviceaccount...  \n",
       "1     TRAIN  112412469323-compute@developer.gserviceaccount...  \n",
       "2     TRAIN  112412469323-compute@developer.gserviceaccount...  \n",
       "3     TRAIN  112412469323-compute@developer.gserviceaccount...  \n",
       "4  VALIDATE  112412469323-compute@developer.gserviceaccount...  \n",
       "\n",
       "[5 rows x 35 columns]"
      ]
     },
     "execution_count": 39,
     "metadata": {},
     "output_type": "execute_result"
    }
   ],
   "source": [
    "data.head()"
   ]
  },
  {
   "cell_type": "code",
   "execution_count": null,
   "id": "58c0d170-f6bb-4185-a948-561eac0bfb5d",
   "metadata": {},
   "outputs": [],
   "source": []
  }
 ],
 "metadata": {
  "environment": {
   "kernel": "python3",
   "name": "tf2-cpu.2-11.m119",
   "type": "gcloud",
   "uri": "us-docker.pkg.dev/deeplearning-platform-release/gcr.io/tf2-cpu.2-11:m119"
  },
  "kernelspec": {
   "display_name": "Python 3 (Local)",
   "language": "python",
   "name": "python3"
  },
  "language_info": {
   "codemirror_mode": {
    "name": "ipython",
    "version": 3
   },
   "file_extension": ".py",
   "mimetype": "text/x-python",
   "name": "python",
   "nbconvert_exporter": "python",
   "pygments_lexer": "ipython3",
   "version": "3.10.14"
  }
 },
 "nbformat": 4,
 "nbformat_minor": 5
}
