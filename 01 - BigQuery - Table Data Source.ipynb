{
 "cells": [
  {
   "cell_type": "markdown",
   "id": "c28f7fa2",
   "metadata": {},
   "source": [
    "# 01 - BigQuery - Table Data Source\n",
    "Use BigQuery to load and prepare data for machine learning:\n"
   ]
  },
  {
   "cell_type": "markdown",
   "id": "5d0c695d-002d-48ca-9d52-839f95fdfee0",
   "metadata": {},
   "source": [
    "---\n",
    "## Source Data\n",
    "`genai-demo-2024.ml_datasets.ulb_fraud_detection`\n",
    "\n",
    "FraudFlix Technologies is a cutting-edge company focused on making financial transactions safer. Using machine learning, FraudFlix analyzes huge amounts of transaction data to spot and stop fraud as it happens. Born from a hackathon challenge, the company uses a special dataset of European credit card transactions to train its algorithms. What sets FraudFlix apart is its approach to continuously testing and improving its fraud detection models by simulating real-world transactions. This innovative strategy is a game-changer in the fight against digital fraud, offering both businesses and consumers a higher level of security. For data engineers and scientists, FraudFlix represents an exciting frontier where AI meets financial safety, showcasing practical applications of their skills to solve real-world problems.\n"
   ]
  },
  {
   "cell_type": "markdown",
   "id": "a5046940",
   "metadata": {},
   "source": [
    "---\n",
    "## Setup"
   ]
  },
  {
   "cell_type": "markdown",
   "id": "a0ae60b2",
   "metadata": {},
   "source": [
    "inputs:"
   ]
  },
  {
   "cell_type": "code",
   "execution_count": 1,
   "id": "d6f0503a-e864-4170-ade9-0ebabd14efcd",
   "metadata": {
    "tags": []
   },
   "outputs": [
    {
     "data": {
      "text/plain": [
       "'genai-demo-2024'"
      ]
     },
     "execution_count": 1,
     "metadata": {},
     "output_type": "execute_result"
    }
   ],
   "source": [
    "project = !gcloud config get-value project\n",
    "PROJECT_ID = project[0]\n",
    "PROJECT_ID"
   ]
  },
  {
   "cell_type": "code",
   "execution_count": 12,
   "id": "56a5bc43",
   "metadata": {
    "tags": []
   },
   "outputs": [],
   "source": [
    "REGION = 'us-central1'\n",
    "EXPERIMENT = '01'\n",
    "SERIES = '01'\n",
    "\n",
    "# source data\n",
    "BQ_PROJECT = PROJECT_ID\n",
    "BQ_DATASET = 'ml_datasets'\n",
    "BQ_TABLE = 'ulb_fraud_detection'\n",
    "\n",
    "# Data source for this series of notebooks: Described above\n",
    "BQ_SOURCE = 'genai-demo-2024.ml_datasets.ulb_fraud_detection'\n",
    "\n"
   ]
  },
  {
   "cell_type": "markdown",
   "id": "e4a963be",
   "metadata": {},
   "source": [
    "packages:"
   ]
  },
  {
   "cell_type": "code",
   "execution_count": 3,
   "id": "8a37b83a",
   "metadata": {
    "tags": []
   },
   "outputs": [],
   "source": [
    "from google.cloud import bigquery\n",
    "from google.cloud import storage"
   ]
  },
  {
   "cell_type": "markdown",
   "id": "e24cebb6",
   "metadata": {},
   "source": [
    "clients:"
   ]
  },
  {
   "cell_type": "code",
   "execution_count": 4,
   "id": "9e515410",
   "metadata": {
    "tags": []
   },
   "outputs": [],
   "source": [
    "bq = bigquery.Client(project = PROJECT_ID)\n",
    "gcs = storage.Client(project = PROJECT_ID)"
   ]
  },
  {
   "cell_type": "markdown",
   "id": "a6601398",
   "metadata": {},
   "source": [
    "parameters:"
   ]
  },
  {
   "cell_type": "code",
   "execution_count": 5,
   "id": "1f1e2af3",
   "metadata": {
    "tags": []
   },
   "outputs": [],
   "source": [
    "BUCKET = PROJECT_ID"
   ]
  },
  {
   "cell_type": "markdown",
   "id": "44285e37-6ac7-478d-9709-dd11a068a4dc",
   "metadata": {},
   "source": [
    "### Retrieve and Review a Sample From The Table:\n",
    "> **Note:** The `LIMIT 5` statement does limit the number of rows returned by BigQuery to 5 but BigQuery still does a full table scan.  If you have a table larger than 1GB and want to limit the rows scanned for a quick review like then then replacing `LIMIT 5` with `TABLESAMPLE SYSTEM (1 PERCENT)` would be more efficient.  For tables under 1GB it will still return the full table.  More on [Table Sampling](https://cloud.google.com/bigquery/docs/table-sampling)"
   ]
  },
  {
   "cell_type": "code",
   "execution_count": 13,
   "id": "11924cf8-a040-4ee5-85ae-788cba106b56",
   "metadata": {
    "tags": []
   },
   "outputs": [
    {
     "data": {
      "text/html": [
       "<div>\n",
       "<style scoped>\n",
       "    .dataframe tbody tr th:only-of-type {\n",
       "        vertical-align: middle;\n",
       "    }\n",
       "\n",
       "    .dataframe tbody tr th {\n",
       "        vertical-align: top;\n",
       "    }\n",
       "\n",
       "    .dataframe thead th {\n",
       "        text-align: right;\n",
       "    }\n",
       "</style>\n",
       "<table border=\"1\" class=\"dataframe\">\n",
       "  <thead>\n",
       "    <tr style=\"text-align: right;\">\n",
       "      <th></th>\n",
       "      <th>Time</th>\n",
       "      <th>V1</th>\n",
       "      <th>V2</th>\n",
       "      <th>V3</th>\n",
       "      <th>V4</th>\n",
       "      <th>V5</th>\n",
       "      <th>V6</th>\n",
       "      <th>V7</th>\n",
       "      <th>V8</th>\n",
       "      <th>V9</th>\n",
       "      <th>...</th>\n",
       "      <th>V22</th>\n",
       "      <th>V23</th>\n",
       "      <th>V24</th>\n",
       "      <th>V25</th>\n",
       "      <th>V26</th>\n",
       "      <th>V27</th>\n",
       "      <th>V28</th>\n",
       "      <th>Amount</th>\n",
       "      <th>Class</th>\n",
       "      <th>Feedback</th>\n",
       "    </tr>\n",
       "  </thead>\n",
       "  <tbody>\n",
       "    <tr>\n",
       "      <th>0</th>\n",
       "      <td>171014.0</td>\n",
       "      <td>-1.131189</td>\n",
       "      <td>1.811996</td>\n",
       "      <td>-1.122398</td>\n",
       "      <td>-0.460932</td>\n",
       "      <td>2.092069</td>\n",
       "      <td>-1.354922</td>\n",
       "      <td>1.669337</td>\n",
       "      <td>-0.222706</td>\n",
       "      <td>-1.181626</td>\n",
       "      <td>...</td>\n",
       "      <td>-0.076353</td>\n",
       "      <td>-0.616869</td>\n",
       "      <td>0.435200</td>\n",
       "      <td>1.269360</td>\n",
       "      <td>0.773910</td>\n",
       "      <td>-0.464797</td>\n",
       "      <td>-0.210717</td>\n",
       "      <td>0.760000</td>\n",
       "      <td>0</td>\n",
       "      <td>very satisfied.</td>\n",
       "    </tr>\n",
       "    <tr>\n",
       "      <th>1</th>\n",
       "      <td>35516.0</td>\n",
       "      <td>1.192986</td>\n",
       "      <td>0.450860</td>\n",
       "      <td>-0.481564</td>\n",
       "      <td>0.674517</td>\n",
       "      <td>0.238480</td>\n",
       "      <td>-0.632110</td>\n",
       "      <td>0.168169</td>\n",
       "      <td>0.007867</td>\n",
       "      <td>-0.316793</td>\n",
       "      <td>...</td>\n",
       "      <td>-0.172393</td>\n",
       "      <td>-0.053980</td>\n",
       "      <td>-0.087989</td>\n",
       "      <td>0.445126</td>\n",
       "      <td>0.383433</td>\n",
       "      <td>-0.025874</td>\n",
       "      <td>0.021537</td>\n",
       "      <td>0.760000</td>\n",
       "      <td>0</td>\n",
       "      <td>very satisfied.</td>\n",
       "    </tr>\n",
       "    <tr>\n",
       "      <th>2</th>\n",
       "      <td>42514.0</td>\n",
       "      <td>1.312386</td>\n",
       "      <td>0.653368</td>\n",
       "      <td>-0.772995</td>\n",
       "      <td>0.755198</td>\n",
       "      <td>0.366244</td>\n",
       "      <td>-1.169847</td>\n",
       "      <td>0.409476</td>\n",
       "      <td>-0.294106</td>\n",
       "      <td>-0.153917</td>\n",
       "      <td>...</td>\n",
       "      <td>-0.466311</td>\n",
       "      <td>-0.146696</td>\n",
       "      <td>-0.222764</td>\n",
       "      <td>0.641990</td>\n",
       "      <td>0.399379</td>\n",
       "      <td>-0.030434</td>\n",
       "      <td>0.038114</td>\n",
       "      <td>0.760000</td>\n",
       "      <td>0</td>\n",
       "      <td>very satisfied.</td>\n",
       "    </tr>\n",
       "    <tr>\n",
       "      <th>3</th>\n",
       "      <td>50858.0</td>\n",
       "      <td>-0.523831</td>\n",
       "      <td>0.845053</td>\n",
       "      <td>2.798503</td>\n",
       "      <td>2.187664</td>\n",
       "      <td>-0.589713</td>\n",
       "      <td>-0.206753</td>\n",
       "      <td>-0.007914</td>\n",
       "      <td>0.240690</td>\n",
       "      <td>-0.479942</td>\n",
       "      <td>...</td>\n",
       "      <td>0.619409</td>\n",
       "      <td>-0.125363</td>\n",
       "      <td>0.895330</td>\n",
       "      <td>-0.175804</td>\n",
       "      <td>0.035546</td>\n",
       "      <td>0.083254</td>\n",
       "      <td>0.079792</td>\n",
       "      <td>0.760000</td>\n",
       "      <td>0</td>\n",
       "      <td>very satisfied.</td>\n",
       "    </tr>\n",
       "    <tr>\n",
       "      <th>4</th>\n",
       "      <td>149517.0</td>\n",
       "      <td>-1.570263</td>\n",
       "      <td>0.471418</td>\n",
       "      <td>-1.250386</td>\n",
       "      <td>-0.460958</td>\n",
       "      <td>3.555698</td>\n",
       "      <td>-1.070799</td>\n",
       "      <td>0.958921</td>\n",
       "      <td>-0.093190</td>\n",
       "      <td>-1.141216</td>\n",
       "      <td>...</td>\n",
       "      <td>-0.236868</td>\n",
       "      <td>-0.662132</td>\n",
       "      <td>-0.517025</td>\n",
       "      <td>1.326950</td>\n",
       "      <td>0.853136</td>\n",
       "      <td>-0.285010</td>\n",
       "      <td>0.288440</td>\n",
       "      <td>0.760000</td>\n",
       "      <td>0</td>\n",
       "      <td>very satisfied.</td>\n",
       "    </tr>\n",
       "    <tr>\n",
       "      <th>...</th>\n",
       "      <td>...</td>\n",
       "      <td>...</td>\n",
       "      <td>...</td>\n",
       "      <td>...</td>\n",
       "      <td>...</td>\n",
       "      <td>...</td>\n",
       "      <td>...</td>\n",
       "      <td>...</td>\n",
       "      <td>...</td>\n",
       "      <td>...</td>\n",
       "      <td>...</td>\n",
       "      <td>...</td>\n",
       "      <td>...</td>\n",
       "      <td>...</td>\n",
       "      <td>...</td>\n",
       "      <td>...</td>\n",
       "      <td>...</td>\n",
       "      <td>...</td>\n",
       "      <td>...</td>\n",
       "      <td>...</td>\n",
       "      <td>...</td>\n",
       "    </tr>\n",
       "    <tr>\n",
       "      <th>66672</th>\n",
       "      <td>46286.0</td>\n",
       "      <td>-0.946968</td>\n",
       "      <td>1.452352</td>\n",
       "      <td>1.494954</td>\n",
       "      <td>0.095164</td>\n",
       "      <td>-0.572162</td>\n",
       "      <td>-1.184136</td>\n",
       "      <td>0.381151</td>\n",
       "      <td>0.243009</td>\n",
       "      <td>-0.654278</td>\n",
       "      <td>...</td>\n",
       "      <td>-0.447785</td>\n",
       "      <td>0.162138</td>\n",
       "      <td>0.923492</td>\n",
       "      <td>-0.572078</td>\n",
       "      <td>-0.081837</td>\n",
       "      <td>0.092660</td>\n",
       "      <td>0.147710</td>\n",
       "      <td>1.870000</td>\n",
       "      <td>0</td>\n",
       "      <td>Very happy with the quick and efficient service.</td>\n",
       "    </tr>\n",
       "    <tr>\n",
       "      <th>66673</th>\n",
       "      <td>38211.0</td>\n",
       "      <td>0.390006</td>\n",
       "      <td>-0.820230</td>\n",
       "      <td>0.664101</td>\n",
       "      <td>2.702281</td>\n",
       "      <td>-0.834142</td>\n",
       "      <td>0.142078</td>\n",
       "      <td>0.164984</td>\n",
       "      <td>0.052547</td>\n",
       "      <td>-0.731222</td>\n",
       "      <td>...</td>\n",
       "      <td>0.207523</td>\n",
       "      <td>-0.383898</td>\n",
       "      <td>0.337729</td>\n",
       "      <td>0.236839</td>\n",
       "      <td>0.011670</td>\n",
       "      <td>-0.063936</td>\n",
       "      <td>0.085387</td>\n",
       "      <td>382.970001</td>\n",
       "      <td>0</td>\n",
       "      <td>Very happy with the quick and efficient service.</td>\n",
       "    </tr>\n",
       "    <tr>\n",
       "      <th>66674</th>\n",
       "      <td>168097.0</td>\n",
       "      <td>1.808470</td>\n",
       "      <td>-0.652284</td>\n",
       "      <td>-0.451944</td>\n",
       "      <td>0.405496</td>\n",
       "      <td>-0.797639</td>\n",
       "      <td>-0.746692</td>\n",
       "      <td>-0.297487</td>\n",
       "      <td>-0.140971</td>\n",
       "      <td>1.010486</td>\n",
       "      <td>...</td>\n",
       "      <td>-0.713694</td>\n",
       "      <td>0.342933</td>\n",
       "      <td>-0.029395</td>\n",
       "      <td>-0.675873</td>\n",
       "      <td>0.223072</td>\n",
       "      <td>-0.058672</td>\n",
       "      <td>-0.025937</td>\n",
       "      <td>111.930000</td>\n",
       "      <td>0</td>\n",
       "      <td>Very happy with the quick and efficient service.</td>\n",
       "    </tr>\n",
       "    <tr>\n",
       "      <th>66675</th>\n",
       "      <td>66228.0</td>\n",
       "      <td>0.988617</td>\n",
       "      <td>-0.412961</td>\n",
       "      <td>0.257419</td>\n",
       "      <td>-0.088862</td>\n",
       "      <td>-0.588306</td>\n",
       "      <td>-0.496338</td>\n",
       "      <td>-0.021778</td>\n",
       "      <td>0.027533</td>\n",
       "      <td>0.008506</td>\n",
       "      <td>...</td>\n",
       "      <td>-0.506842</td>\n",
       "      <td>0.064342</td>\n",
       "      <td>0.254996</td>\n",
       "      <td>-0.020271</td>\n",
       "      <td>0.837375</td>\n",
       "      <td>-0.098967</td>\n",
       "      <td>0.010280</td>\n",
       "      <td>111.930000</td>\n",
       "      <td>0</td>\n",
       "      <td>Very happy with the quick and efficient service.</td>\n",
       "    </tr>\n",
       "    <tr>\n",
       "      <th>66676</th>\n",
       "      <td>53607.0</td>\n",
       "      <td>-6.304059</td>\n",
       "      <td>-12.477835</td>\n",
       "      <td>-4.468255</td>\n",
       "      <td>2.964086</td>\n",
       "      <td>-4.232415</td>\n",
       "      <td>0.152491</td>\n",
       "      <td>5.529656</td>\n",
       "      <td>-1.362751</td>\n",
       "      <td>0.369449</td>\n",
       "      <td>...</td>\n",
       "      <td>-1.875100</td>\n",
       "      <td>-3.653544</td>\n",
       "      <td>0.634389</td>\n",
       "      <td>-0.509961</td>\n",
       "      <td>-0.859760</td>\n",
       "      <td>-0.714134</td>\n",
       "      <td>0.697440</td>\n",
       "      <td>3937.129883</td>\n",
       "      <td>0</td>\n",
       "      <td>Very happy with the quick and efficient service.</td>\n",
       "    </tr>\n",
       "  </tbody>\n",
       "</table>\n",
       "<p>66677 rows × 32 columns</p>\n",
       "</div>"
      ],
      "text/plain": [
       "           Time        V1         V2        V3        V4        V5        V6  \\\n",
       "0      171014.0 -1.131189   1.811996 -1.122398 -0.460932  2.092069 -1.354922   \n",
       "1       35516.0  1.192986   0.450860 -0.481564  0.674517  0.238480 -0.632110   \n",
       "2       42514.0  1.312386   0.653368 -0.772995  0.755198  0.366244 -1.169847   \n",
       "3       50858.0 -0.523831   0.845053  2.798503  2.187664 -0.589713 -0.206753   \n",
       "4      149517.0 -1.570263   0.471418 -1.250386 -0.460958  3.555698 -1.070799   \n",
       "...         ...       ...        ...       ...       ...       ...       ...   \n",
       "66672   46286.0 -0.946968   1.452352  1.494954  0.095164 -0.572162 -1.184136   \n",
       "66673   38211.0  0.390006  -0.820230  0.664101  2.702281 -0.834142  0.142078   \n",
       "66674  168097.0  1.808470  -0.652284 -0.451944  0.405496 -0.797639 -0.746692   \n",
       "66675   66228.0  0.988617  -0.412961  0.257419 -0.088862 -0.588306 -0.496338   \n",
       "66676   53607.0 -6.304059 -12.477835 -4.468255  2.964086 -4.232415  0.152491   \n",
       "\n",
       "             V7        V8        V9  ...       V22       V23       V24  \\\n",
       "0      1.669337 -0.222706 -1.181626  ... -0.076353 -0.616869  0.435200   \n",
       "1      0.168169  0.007867 -0.316793  ... -0.172393 -0.053980 -0.087989   \n",
       "2      0.409476 -0.294106 -0.153917  ... -0.466311 -0.146696 -0.222764   \n",
       "3     -0.007914  0.240690 -0.479942  ...  0.619409 -0.125363  0.895330   \n",
       "4      0.958921 -0.093190 -1.141216  ... -0.236868 -0.662132 -0.517025   \n",
       "...         ...       ...       ...  ...       ...       ...       ...   \n",
       "66672  0.381151  0.243009 -0.654278  ... -0.447785  0.162138  0.923492   \n",
       "66673  0.164984  0.052547 -0.731222  ...  0.207523 -0.383898  0.337729   \n",
       "66674 -0.297487 -0.140971  1.010486  ... -0.713694  0.342933 -0.029395   \n",
       "66675 -0.021778  0.027533  0.008506  ... -0.506842  0.064342  0.254996   \n",
       "66676  5.529656 -1.362751  0.369449  ... -1.875100 -3.653544  0.634389   \n",
       "\n",
       "            V25       V26       V27       V28       Amount  Class  \\\n",
       "0      1.269360  0.773910 -0.464797 -0.210717     0.760000      0   \n",
       "1      0.445126  0.383433 -0.025874  0.021537     0.760000      0   \n",
       "2      0.641990  0.399379 -0.030434  0.038114     0.760000      0   \n",
       "3     -0.175804  0.035546  0.083254  0.079792     0.760000      0   \n",
       "4      1.326950  0.853136 -0.285010  0.288440     0.760000      0   \n",
       "...         ...       ...       ...       ...          ...    ...   \n",
       "66672 -0.572078 -0.081837  0.092660  0.147710     1.870000      0   \n",
       "66673  0.236839  0.011670 -0.063936  0.085387   382.970001      0   \n",
       "66674 -0.675873  0.223072 -0.058672 -0.025937   111.930000      0   \n",
       "66675 -0.020271  0.837375 -0.098967  0.010280   111.930000      0   \n",
       "66676 -0.509961 -0.859760 -0.714134  0.697440  3937.129883      0   \n",
       "\n",
       "                                               Feedback  \n",
       "0                                       very satisfied.  \n",
       "1                                       very satisfied.  \n",
       "2                                       very satisfied.  \n",
       "3                                       very satisfied.  \n",
       "4                                       very satisfied.  \n",
       "...                                                 ...  \n",
       "66672  Very happy with the quick and efficient service.  \n",
       "66673  Very happy with the quick and efficient service.  \n",
       "66674  Very happy with the quick and efficient service.  \n",
       "66675  Very happy with the quick and efficient service.  \n",
       "66676  Very happy with the quick and efficient service.  \n",
       "\n",
       "[66677 rows x 32 columns]"
      ]
     },
     "execution_count": 13,
     "metadata": {},
     "output_type": "execute_result"
    }
   ],
   "source": [
    "query = f\"\"\"\n",
    "SELECT *\n",
    "FROM `{BQ_PROJECT}.{BQ_DATASET}.{BQ_TABLE}` TABLESAMPLE SYSTEM (1 PERCENT)\n",
    "#LIMIT 5\n",
    "\"\"\"\n",
    "bq.query(query = query).to_dataframe()"
   ]
  },
  {
   "cell_type": "markdown",
   "id": "e85ccdce-e6a9-4735-9997-e5ae77a6f86c",
   "metadata": {},
   "source": [
    "### Check out this table in BigQuery Console:\n",
    "- Click: https://console.cloud.google.com/bigquery\n",
    "- Make sure project selected is the one from this notebook\n",
    "- Under Explore, expand this project and review the dataset and table"
   ]
  },
  {
   "cell_type": "code",
   "execution_count": 11,
   "id": "d439a1dc-dfdd-4c82-8302-8dc1ffe44d28",
   "metadata": {
    "tags": []
   },
   "outputs": [
    {
     "name": "stdout",
     "output_type": "stream",
     "text": [
      "Direct Link To This Project In BigQuery:\n",
      "https://console.cloud.google.com/bigquery?project=genai-demo-2024\n"
     ]
    }
   ],
   "source": [
    "print(f\"Direct Link To This Project In BigQuery:\\nhttps://console.cloud.google.com/bigquery?project={PROJECT_ID}\")"
   ]
  },
  {
   "cell_type": "markdown",
   "id": "2f133efb-8232-4b21-814f-23b815dc60f2",
   "metadata": {},
   "source": [
    "---\n",
    "## Review Data in BigQuery\n",
    "Additional SQL queries could be used to review the data.  This section shows moving the table to a Pandas dataframe for local review in Python:\n",
    "\n",
    "> **Note:** <p>This query only selects one column.  This means BigQuery scans less data as it does not process the other columns.  </p>"
   ]
  },
  {
   "cell_type": "code",
   "execution_count": 14,
   "id": "f4ebf6f5-a178-4011-9ab6-fa8329c578c9",
   "metadata": {
    "tags": []
   },
   "outputs": [],
   "source": [
    "query = f\"\"\"\n",
    "SELECT Class\n",
    "FROM `{BQ_PROJECT}.{BQ_DATASET}.{BQ_TABLE}`\n",
    "\"\"\"\n",
    "df = bq.query(query = query).to_dataframe()"
   ]
  },
  {
   "cell_type": "code",
   "execution_count": 15,
   "id": "674f716e-8b9d-4c92-9b46-c166b869f6ae",
   "metadata": {
    "tags": []
   },
   "outputs": [
    {
     "data": {
      "text/plain": [
       "Class\n",
       "0    276740\n",
       "1       257\n",
       "Name: count, dtype: Int64"
      ]
     },
     "execution_count": 15,
     "metadata": {},
     "output_type": "execute_result"
    }
   ],
   "source": [
    "df['Class'].value_counts()"
   ]
  },
  {
   "cell_type": "code",
   "execution_count": 16,
   "id": "ba5d17e5-07c3-48fd-b682-aa471f3548f2",
   "metadata": {
    "tags": []
   },
   "outputs": [
    {
     "data": {
      "text/plain": [
       "Class\n",
       "0    0.999072\n",
       "1    0.000928\n",
       "Name: proportion, dtype: Float64"
      ]
     },
     "execution_count": 16,
     "metadata": {},
     "output_type": "execute_result"
    }
   ],
   "source": [
    "df['Class'].value_counts(normalize=True)"
   ]
  },
  {
   "cell_type": "markdown",
   "id": "35b34894",
   "metadata": {},
   "source": [
    "---\n",
    "## Prepare Data for Analysis"
   ]
  },
  {
   "cell_type": "markdown",
   "id": "4c982157",
   "metadata": {},
   "source": [
    "Create a prepped version of the data with test/train splits using SQL DDL:"
   ]
  },
  {
   "cell_type": "code",
   "execution_count": 17,
   "id": "a50becbb-60ab-45f9-acd5-9beb5b6755f0",
   "metadata": {
    "tags": []
   },
   "outputs": [
    {
     "data": {
      "text/plain": [
       "<google.cloud.bigquery.table._EmptyRowIterator at 0x7f8582f67fa0>"
      ]
     },
     "execution_count": 17,
     "metadata": {},
     "output_type": "execute_result"
    }
   ],
   "source": [
    "query = f\"\"\"\n",
    "CREATE TABLE IF NOT EXISTS `{BQ_PROJECT}.{BQ_DATASET}.{BQ_TABLE}_prepped` AS\n",
    "WITH add_id AS(SELECT *, GENERATE_UUID() transaction_id FROM `{BQ_PROJECT}.{BQ_DATASET}.{BQ_TABLE}`)\n",
    "SELECT *,\n",
    "    CASE \n",
    "        WHEN MOD(ABS(FARM_FINGERPRINT(transaction_id)),10) < 8 THEN \"TRAIN\" \n",
    "        WHEN MOD(ABS(FARM_FINGERPRINT(transaction_id)),10) < 9 THEN \"VALIDATE\"\n",
    "        ELSE \"TEST\"\n",
    "    END AS splits\n",
    "FROM add_id\n",
    "\"\"\"\n",
    "job = bq.query(query = query)\n",
    "job.result()"
   ]
  },
  {
   "cell_type": "code",
   "execution_count": 18,
   "id": "77d6e2a9-ec35-477c-9d50-429326acc41d",
   "metadata": {
    "tags": []
   },
   "outputs": [
    {
     "data": {
      "text/plain": [
       "5.948"
      ]
     },
     "execution_count": 18,
     "metadata": {},
     "output_type": "execute_result"
    }
   ],
   "source": [
    "(job.ended-job.started).total_seconds()"
   ]
  },
  {
   "cell_type": "code",
   "execution_count": 19,
   "id": "a991ff73-a545-4eed-a709-b8292efd89ca",
   "metadata": {
    "tags": []
   },
   "outputs": [
    {
     "name": "stdout",
     "output_type": "stream",
     "text": [
      "77.532674 MB\n"
     ]
    }
   ],
   "source": [
    "if job.estimated_bytes_processed:\n",
    "    print(f'{job.estimated_bytes_processed/1000000} MB')"
   ]
  },
  {
   "cell_type": "markdown",
   "id": "372b2c41",
   "metadata": {},
   "source": [
    "Review the test/train split:"
   ]
  },
  {
   "cell_type": "code",
   "execution_count": 20,
   "id": "4a94adb9-81d7-4710-ac50-e0d93dd5523a",
   "metadata": {
    "tags": []
   },
   "outputs": [
    {
     "data": {
      "text/html": [
       "<div>\n",
       "<style scoped>\n",
       "    .dataframe tbody tr th:only-of-type {\n",
       "        vertical-align: middle;\n",
       "    }\n",
       "\n",
       "    .dataframe tbody tr th {\n",
       "        vertical-align: top;\n",
       "    }\n",
       "\n",
       "    .dataframe thead th {\n",
       "        text-align: right;\n",
       "    }\n",
       "</style>\n",
       "<table border=\"1\" class=\"dataframe\">\n",
       "  <thead>\n",
       "    <tr style=\"text-align: right;\">\n",
       "      <th></th>\n",
       "      <th>splits</th>\n",
       "      <th>Count</th>\n",
       "      <th>Percentage</th>\n",
       "    </tr>\n",
       "  </thead>\n",
       "  <tbody>\n",
       "    <tr>\n",
       "      <th>0</th>\n",
       "      <td>TEST</td>\n",
       "      <td>27694</td>\n",
       "      <td>9.997942</td>\n",
       "    </tr>\n",
       "    <tr>\n",
       "      <th>1</th>\n",
       "      <td>TRAIN</td>\n",
       "      <td>221758</td>\n",
       "      <td>80.057907</td>\n",
       "    </tr>\n",
       "    <tr>\n",
       "      <th>2</th>\n",
       "      <td>VALIDATE</td>\n",
       "      <td>27545</td>\n",
       "      <td>9.944151</td>\n",
       "    </tr>\n",
       "  </tbody>\n",
       "</table>\n",
       "</div>"
      ],
      "text/plain": [
       "     splits   Count  Percentage\n",
       "0      TEST   27694    9.997942\n",
       "1     TRAIN  221758   80.057907\n",
       "2  VALIDATE   27545    9.944151"
      ]
     },
     "execution_count": 20,
     "metadata": {},
     "output_type": "execute_result"
    }
   ],
   "source": [
    "query = f\"\"\"\n",
    "SELECT splits, count(*) as Count, 100*count(*) / (sum(count(*)) OVER()) as Percentage\n",
    "FROM `{BQ_PROJECT}.{BQ_DATASET}.{BQ_TABLE}_prepped`\n",
    "GROUP BY splits\n",
    "\"\"\"\n",
    "bq.query(query = query).to_dataframe()"
   ]
  },
  {
   "cell_type": "markdown",
   "id": "3006ed11",
   "metadata": {},
   "source": [
    "Retrieve a subset of the data to a Pandas dataframe:"
   ]
  },
  {
   "cell_type": "code",
   "execution_count": 21,
   "id": "2ea70141-07db-46b0-a31e-0968befcd37b",
   "metadata": {
    "tags": []
   },
   "outputs": [],
   "source": [
    "query = f\"\"\"\n",
    "SELECT * \n",
    "FROM `{BQ_PROJECT}.{BQ_DATASET}.{BQ_TABLE}_prepped`\n",
    "LIMIT 5\n",
    "\"\"\"\n",
    "data = bq.query(query = query).to_dataframe()"
   ]
  },
  {
   "cell_type": "code",
   "execution_count": 22,
   "id": "326d2b3d",
   "metadata": {
    "tags": []
   },
   "outputs": [
    {
     "data": {
      "text/html": [
       "<div>\n",
       "<style scoped>\n",
       "    .dataframe tbody tr th:only-of-type {\n",
       "        vertical-align: middle;\n",
       "    }\n",
       "\n",
       "    .dataframe tbody tr th {\n",
       "        vertical-align: top;\n",
       "    }\n",
       "\n",
       "    .dataframe thead th {\n",
       "        text-align: right;\n",
       "    }\n",
       "</style>\n",
       "<table border=\"1\" class=\"dataframe\">\n",
       "  <thead>\n",
       "    <tr style=\"text-align: right;\">\n",
       "      <th></th>\n",
       "      <th>Time</th>\n",
       "      <th>V1</th>\n",
       "      <th>V2</th>\n",
       "      <th>V3</th>\n",
       "      <th>V4</th>\n",
       "      <th>V5</th>\n",
       "      <th>V6</th>\n",
       "      <th>V7</th>\n",
       "      <th>V8</th>\n",
       "      <th>V9</th>\n",
       "      <th>...</th>\n",
       "      <th>V24</th>\n",
       "      <th>V25</th>\n",
       "      <th>V26</th>\n",
       "      <th>V27</th>\n",
       "      <th>V28</th>\n",
       "      <th>Amount</th>\n",
       "      <th>Class</th>\n",
       "      <th>Feedback</th>\n",
       "      <th>transaction_id</th>\n",
       "      <th>splits</th>\n",
       "    </tr>\n",
       "  </thead>\n",
       "  <tbody>\n",
       "    <tr>\n",
       "      <th>0</th>\n",
       "      <td>135426.0</td>\n",
       "      <td>2.132591</td>\n",
       "      <td>-0.079070</td>\n",
       "      <td>-2.347959</td>\n",
       "      <td>0.060631</td>\n",
       "      <td>0.866875</td>\n",
       "      <td>-0.526201</td>\n",
       "      <td>0.438905</td>\n",
       "      <td>-0.192546</td>\n",
       "      <td>0.160300</td>\n",
       "      <td>...</td>\n",
       "      <td>0.133487</td>\n",
       "      <td>0.401384</td>\n",
       "      <td>0.704240</td>\n",
       "      <td>-0.132129</td>\n",
       "      <td>-0.098000</td>\n",
       "      <td>0.760000</td>\n",
       "      <td>0</td>\n",
       "      <td>very satisfied.</td>\n",
       "      <td>e5f648f8-d5e7-4ceb-86ef-cb7c6dc7d15a</td>\n",
       "      <td>TEST</td>\n",
       "    </tr>\n",
       "    <tr>\n",
       "      <th>1</th>\n",
       "      <td>97430.0</td>\n",
       "      <td>0.168853</td>\n",
       "      <td>0.136885</td>\n",
       "      <td>1.892742</td>\n",
       "      <td>-0.242915</td>\n",
       "      <td>-0.184315</td>\n",
       "      <td>-0.024114</td>\n",
       "      <td>0.012281</td>\n",
       "      <td>-0.310277</td>\n",
       "      <td>2.110540</td>\n",
       "      <td>...</td>\n",
       "      <td>0.041079</td>\n",
       "      <td>-1.382377</td>\n",
       "      <td>0.295097</td>\n",
       "      <td>-0.337653</td>\n",
       "      <td>-0.351998</td>\n",
       "      <td>14.950000</td>\n",
       "      <td>0</td>\n",
       "      <td>very satisfied.</td>\n",
       "      <td>b786d86a-2a8b-4b3b-879e-650c221acbc5</td>\n",
       "      <td>TEST</td>\n",
       "    </tr>\n",
       "    <tr>\n",
       "      <th>2</th>\n",
       "      <td>40864.0</td>\n",
       "      <td>0.491464</td>\n",
       "      <td>-0.946247</td>\n",
       "      <td>-0.345005</td>\n",
       "      <td>1.495592</td>\n",
       "      <td>-0.019860</td>\n",
       "      <td>0.454469</td>\n",
       "      <td>0.629021</td>\n",
       "      <td>-0.123851</td>\n",
       "      <td>0.138186</td>\n",
       "      <td>...</td>\n",
       "      <td>-0.709041</td>\n",
       "      <td>0.672462</td>\n",
       "      <td>-0.304324</td>\n",
       "      <td>-0.025661</td>\n",
       "      <td>0.075820</td>\n",
       "      <td>387.790009</td>\n",
       "      <td>0</td>\n",
       "      <td>very satisfied.</td>\n",
       "      <td>0c1da076-6309-487d-86e6-995a641121ba</td>\n",
       "      <td>TEST</td>\n",
       "    </tr>\n",
       "    <tr>\n",
       "      <th>3</th>\n",
       "      <td>30606.0</td>\n",
       "      <td>-0.462273</td>\n",
       "      <td>-0.355619</td>\n",
       "      <td>2.048961</td>\n",
       "      <td>-1.706096</td>\n",
       "      <td>-1.085680</td>\n",
       "      <td>-0.303081</td>\n",
       "      <td>-0.704979</td>\n",
       "      <td>-0.057419</td>\n",
       "      <td>-2.316110</td>\n",
       "      <td>...</td>\n",
       "      <td>-0.109457</td>\n",
       "      <td>0.220757</td>\n",
       "      <td>0.050688</td>\n",
       "      <td>0.006466</td>\n",
       "      <td>0.062116</td>\n",
       "      <td>18.400000</td>\n",
       "      <td>0</td>\n",
       "      <td>very satisfied.</td>\n",
       "      <td>c7009b0e-3be6-4b25-9374-05aa97ca0981</td>\n",
       "      <td>TEST</td>\n",
       "    </tr>\n",
       "    <tr>\n",
       "      <th>4</th>\n",
       "      <td>90355.0</td>\n",
       "      <td>-0.191694</td>\n",
       "      <td>1.227645</td>\n",
       "      <td>0.367228</td>\n",
       "      <td>-0.441990</td>\n",
       "      <td>0.581749</td>\n",
       "      <td>-1.091603</td>\n",
       "      <td>0.969535</td>\n",
       "      <td>-0.350792</td>\n",
       "      <td>1.235120</td>\n",
       "      <td>...</td>\n",
       "      <td>0.011476</td>\n",
       "      <td>-0.419318</td>\n",
       "      <td>0.099607</td>\n",
       "      <td>0.338829</td>\n",
       "      <td>0.153138</td>\n",
       "      <td>0.890000</td>\n",
       "      <td>0</td>\n",
       "      <td>very satisfied.</td>\n",
       "      <td>727fcf48-4b2a-40bf-bfe8-aec6a9ebdf1d</td>\n",
       "      <td>TEST</td>\n",
       "    </tr>\n",
       "  </tbody>\n",
       "</table>\n",
       "<p>5 rows × 34 columns</p>\n",
       "</div>"
      ],
      "text/plain": [
       "       Time        V1        V2        V3        V4        V5        V6  \\\n",
       "0  135426.0  2.132591 -0.079070 -2.347959  0.060631  0.866875 -0.526201   \n",
       "1   97430.0  0.168853  0.136885  1.892742 -0.242915 -0.184315 -0.024114   \n",
       "2   40864.0  0.491464 -0.946247 -0.345005  1.495592 -0.019860  0.454469   \n",
       "3   30606.0 -0.462273 -0.355619  2.048961 -1.706096 -1.085680 -0.303081   \n",
       "4   90355.0 -0.191694  1.227645  0.367228 -0.441990  0.581749 -1.091603   \n",
       "\n",
       "         V7        V8        V9  ...       V24       V25       V26       V27  \\\n",
       "0  0.438905 -0.192546  0.160300  ...  0.133487  0.401384  0.704240 -0.132129   \n",
       "1  0.012281 -0.310277  2.110540  ...  0.041079 -1.382377  0.295097 -0.337653   \n",
       "2  0.629021 -0.123851  0.138186  ... -0.709041  0.672462 -0.304324 -0.025661   \n",
       "3 -0.704979 -0.057419 -2.316110  ... -0.109457  0.220757  0.050688  0.006466   \n",
       "4  0.969535 -0.350792  1.235120  ...  0.011476 -0.419318  0.099607  0.338829   \n",
       "\n",
       "        V28      Amount  Class          Feedback  \\\n",
       "0 -0.098000    0.760000      0   very satisfied.   \n",
       "1 -0.351998   14.950000      0   very satisfied.   \n",
       "2  0.075820  387.790009      0   very satisfied.   \n",
       "3  0.062116   18.400000      0   very satisfied.   \n",
       "4  0.153138    0.890000      0   very satisfied.   \n",
       "\n",
       "                         transaction_id  splits  \n",
       "0  e5f648f8-d5e7-4ceb-86ef-cb7c6dc7d15a    TEST  \n",
       "1  b786d86a-2a8b-4b3b-879e-650c221acbc5    TEST  \n",
       "2  0c1da076-6309-487d-86e6-995a641121ba    TEST  \n",
       "3  c7009b0e-3be6-4b25-9374-05aa97ca0981    TEST  \n",
       "4  727fcf48-4b2a-40bf-bfe8-aec6a9ebdf1d    TEST  \n",
       "\n",
       "[5 rows x 34 columns]"
      ]
     },
     "execution_count": 22,
     "metadata": {},
     "output_type": "execute_result"
    }
   ],
   "source": [
    "data.head()"
   ]
  }
 ],
 "metadata": {
  "environment": {
   "kernel": "python3",
   "name": "tf2-cpu.2-11.m119",
   "type": "gcloud",
   "uri": "us-docker.pkg.dev/deeplearning-platform-release/gcr.io/tf2-cpu.2-11:m119"
  },
  "kernelspec": {
   "display_name": "Python 3",
   "language": "python",
   "name": "python3"
  },
  "language_info": {
   "codemirror_mode": {
    "name": "ipython",
    "version": 3
   },
   "file_extension": ".py",
   "mimetype": "text/x-python",
   "name": "python",
   "nbconvert_exporter": "python",
   "pygments_lexer": "ipython3",
   "version": "3.10.14"
  }
 },
 "nbformat": 4,
 "nbformat_minor": 5
}
