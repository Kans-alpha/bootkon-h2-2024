{
 "cells": [
  {
   "cell_type": "markdown",
   "id": "1ad2b88b",
   "metadata": {},
   "source": [
    "# 02 - Vertex AI - AutoML\n",
    "\n",
    "\n",
    "This builds a custom model with AutoML and deploys it to an Endpoint for predictions and explanations. \n"
   ]
  },
  {
   "cell_type": "markdown",
   "id": "274e9220",
   "metadata": {},
   "source": [
    "\n",
    "## Setup"
   ]
  },
  {
   "cell_type": "markdown",
   "id": "f5ecbc2a",
   "metadata": {},
   "source": [
    "inputs:"
   ]
  },
  {
   "cell_type": "code",
   "execution_count": 2,
   "id": "7bf0314c-770c-41fe-be57-f41eb17bf48a",
   "metadata": {
    "tags": []
   },
   "outputs": [
    {
     "data": {
      "text/plain": [
       "'bootkon-2024'"
      ]
     },
     "execution_count": 2,
     "metadata": {},
     "output_type": "execute_result"
    }
   ],
   "source": [
    "project = !gcloud config get-value project\n",
    "PROJECT_ID = project[0]\n",
    "PROJECT_ID"
   ]
  },
  {
   "cell_type": "code",
   "execution_count": 3,
   "id": "2c876ea3",
   "metadata": {
    "tags": []
   },
   "outputs": [],
   "source": [
    "REGION = 'us-central1'\n",
    "# source data\n",
    "BQ_PROJECT = PROJECT_ID\n",
    "BQ_DATASET = 'ml_datasets'\n",
    "BQ_TABLE = 'ulb_fraud_detection'\n",
    "NOTEBOOK = '02'\n",
    "\n",
    "# Resources\n",
    "DEPLOY_COMPUTE = 'n1-standard-4'\n",
    "\n",
    "# Model Training\n",
    "VAR_TARGET = 'Class'\n",
    "VAR_OMIT = 'transaction_id Feedback service_account_email' # add more variables to the string with space delimiters"
   ]
  },
  {
   "cell_type": "markdown",
   "id": "766af32d",
   "metadata": {},
   "source": [
    "packages:"
   ]
  },
  {
   "cell_type": "code",
   "execution_count": 4,
   "id": "37cc8f31",
   "metadata": {
    "tags": []
   },
   "outputs": [],
   "source": [
    "from google.cloud import aiplatform\n",
    "from datetime import datetime\n",
    "\n",
    "from google.cloud import bigquery\n",
    "from google.protobuf import json_format\n",
    "from google.protobuf.struct_pb2 import Value\n",
    "import json\n",
    "import numpy as np"
   ]
  },
  {
   "cell_type": "markdown",
   "id": "8eb5d30a",
   "metadata": {},
   "source": [
    "clients:"
   ]
  },
  {
   "cell_type": "code",
   "execution_count": 5,
   "id": "e6ea1163",
   "metadata": {
    "tags": []
   },
   "outputs": [],
   "source": [
    "aiplatform.init(project=PROJECT_ID, location=REGION)\n",
    "bigquery = bigquery.Client()"
   ]
  },
  {
   "cell_type": "markdown",
   "id": "3bc72990",
   "metadata": {},
   "source": [
    "parameters:"
   ]
  },
  {
   "cell_type": "code",
   "execution_count": 6,
   "id": "0aa6724c",
   "metadata": {
    "tags": []
   },
   "outputs": [],
   "source": [
    "TIMESTAMP = datetime.now().strftime(\"%Y%m%d%H%M%S\")\n",
    "DIR = f\"temp/{NOTEBOOK}\""
   ]
  },
  {
   "cell_type": "markdown",
   "id": "6e7aa5a4",
   "metadata": {},
   "source": [
    "environment:"
   ]
  },
  {
   "cell_type": "code",
   "execution_count": 7,
   "id": "839f366e",
   "metadata": {
    "tags": []
   },
   "outputs": [],
   "source": [
    "!rm -rf {DIR}\n",
    "!mkdir -p {DIR}"
   ]
  },
  {
   "cell_type": "markdown",
   "id": "d5815579",
   "metadata": {},
   "source": [
    "---\n",
    "## Create Dataset (link to BigQuery table)"
   ]
  },
  {
   "cell_type": "code",
   "execution_count": 11,
   "id": "8ef3b1e3",
   "metadata": {
    "tags": []
   },
   "outputs": [
    {
     "name": "stdout",
     "output_type": "stream",
     "text": [
      "Creating TabularDataset\n",
      "Create TabularDataset backing LRO: projects/112412469323/locations/us-central1/datasets/432348862762450944/operations/1118476588447432704\n",
      "TabularDataset created. Resource name: projects/112412469323/locations/us-central1/datasets/432348862762450944\n",
      "To use this TabularDataset in another session:\n",
      "ds = aiplatform.TabularDataset('projects/112412469323/locations/us-central1/datasets/432348862762450944')\n"
     ]
    }
   ],
   "source": [
    "dataset = aiplatform.TabularDataset.create(\n",
    "    display_name = f'{NOTEBOOK}_{BQ_TABLE}_{TIMESTAMP}', \n",
    "    bq_source = f'bq://{BQ_PROJECT}.{BQ_DATASET}.{BQ_TABLE}_prepped',\n",
    "    labels = {'notebook':f'{NOTEBOOK}'}\n",
    ")"
   ]
  },
  {
   "cell_type": "markdown",
   "id": "46b48275",
   "metadata": {},
   "source": [
    "---\n",
    "## Train Model with AutoML"
   ]
  },
  {
   "cell_type": "code",
   "execution_count": 12,
   "id": "51634455",
   "metadata": {
    "tags": []
   },
   "outputs": [],
   "source": [
    "column_specs = list(set(dataset.column_names) - set(VAR_OMIT.split()) - set([VAR_TARGET, 'splits']))"
   ]
  },
  {
   "cell_type": "code",
   "execution_count": 13,
   "id": "3115cad7",
   "metadata": {
    "tags": []
   },
   "outputs": [],
   "source": [
    "column_specs = dict.fromkeys(column_specs, 'auto')"
   ]
  },
  {
   "cell_type": "markdown",
   "id": "da9ce943",
   "metadata": {},
   "source": [
    "Define a Job:\n",
    "- Consider Weighting\n",
    "- Model Type\n",
    "- Optimization Objective\n",
    "\n",
    "https://googleapis.dev/python/aiplatform/latest/aiplatform.html#google.cloud.aiplatform.AutoMLTabularTrainingJob"
   ]
  },
  {
   "cell_type": "code",
   "execution_count": 15,
   "id": "2ada2e66",
   "metadata": {
    "tags": []
   },
   "outputs": [],
   "source": [
    "tabular_classification_job = aiplatform.AutoMLTabularTrainingJob(\n",
    "    display_name = f'{NOTEBOOK}_{BQ_TABLE}_{TIMESTAMP}',\n",
    "    optimization_prediction_type = 'classification',\n",
    "    optimization_objective = 'maximize-au-prc',\n",
    "    column_specs = column_specs,\n",
    "    labels = {'notebook':f'{NOTEBOOK}'}\n",
    ")"
   ]
  },
  {
   "cell_type": "code",
   "execution_count": null,
   "id": "d3c1a2f4",
   "metadata": {
    "scrolled": true,
    "tags": []
   },
   "outputs": [
    {
     "name": "stdout",
     "output_type": "stream",
     "text": [
      "View Training:\n",
      "https://console.cloud.google.com/ai/platform/locations/us-central1/training/7698922289047273472?project=112412469323\n",
      "AutoMLTabularTrainingJob projects/112412469323/locations/us-central1/trainingPipelines/7698922289047273472 current state:\n",
      "PipelineState.PIPELINE_STATE_PENDING\n",
      "AutoMLTabularTrainingJob projects/112412469323/locations/us-central1/trainingPipelines/7698922289047273472 current state:\n",
      "PipelineState.PIPELINE_STATE_PENDING\n",
      "AutoMLTabularTrainingJob projects/112412469323/locations/us-central1/trainingPipelines/7698922289047273472 current state:\n",
      "PipelineState.PIPELINE_STATE_RUNNING\n",
      "AutoMLTabularTrainingJob projects/112412469323/locations/us-central1/trainingPipelines/7698922289047273472 current state:\n",
      "PipelineState.PIPELINE_STATE_RUNNING\n",
      "AutoMLTabularTrainingJob projects/112412469323/locations/us-central1/trainingPipelines/7698922289047273472 current state:\n",
      "PipelineState.PIPELINE_STATE_RUNNING\n",
      "AutoMLTabularTrainingJob projects/112412469323/locations/us-central1/trainingPipelines/7698922289047273472 current state:\n",
      "PipelineState.PIPELINE_STATE_RUNNING\n"
     ]
    }
   ],
   "source": [
    "# this job would take +2 hours,  depending on your infrastcuture\n",
    "model = tabular_classification_job.run(\n",
    "    dataset = dataset,\n",
    "    target_column = VAR_TARGET,\n",
    "    predefined_split_column_name = 'splits',\n",
    "    #    training_fraction_split = 0.8,\n",
    "    #    validation_fraction_split = 0.1,\n",
    "    #    test_fraction_split = 0.1,\n",
    "    budget_milli_node_hours = 1000,\n",
    "    model_display_name = f'{NOTEBOOK}_{BQ_TABLE}_{TIMESTAMP}',\n",
    "    disable_early_stopping = False,\n",
    "    model_labels = {'notebook':f'{NOTEBOOK}'}\n",
    ")"
   ]
  },
  {
   "cell_type": "markdown",
   "id": "29723311-0089-4b50-a189-9340d4f52bc2",
   "metadata": {},
   "source": [
    "## For the rest of the commands, because the training job takes signifiant time, we will show the results of the following commands on stage."
   ]
  },
  {
   "cell_type": "markdown",
   "id": "0523ffaa-9dfb-41cb-b7b5-6cc6ddae1613",
   "metadata": {
    "tags": []
   },
   "source": [
    "---\n",
    "## Evaluation\n",
    "While the model above was trained using AutoML with the API, it is still possible to review the evaluation metrics directly in the Google Cloud Console.  Just visit the Models section of Vertex AI service and select the model and it will present the evaluation metrics with many helpful visuals.\n",
    "\n",
    "It is also possible to retrieve the evaluation metrics for you model using the API.  This section shows how to use the API.\n"
   ]
  },
  {
   "cell_type": "markdown",
   "id": "a106b740-1d3b-43b5-ac3d-311fb298b2bf",
   "metadata": {},
   "source": [
    "Setup a model client for the model create by this notebook:"
   ]
  },
  {
   "cell_type": "code",
   "execution_count": 19,
   "id": "a4f7b61b-ad0f-487b-8dc6-ac8ed12e6afb",
   "metadata": {
    "tags": []
   },
   "outputs": [
    {
     "data": {
      "text/plain": [
       "'projects/112412469323/locations/us-central1/models/7735742700078497792'"
      ]
     },
     "execution_count": 19,
     "metadata": {},
     "output_type": "execute_result"
    }
   ],
   "source": [
    "model.resource_name"
   ]
  },
  {
   "cell_type": "code",
   "execution_count": 20,
   "id": "02bbdfaa-75dc-4482-8781-d73f0043aaf9",
   "metadata": {
    "tags": []
   },
   "outputs": [],
   "source": [
    "model_client = aiplatform.gapic.ModelServiceClient(\n",
    "    client_options = {\n",
    "        'api_endpoint' : f'{REGION}-aiplatform.googleapis.com'\n",
    "    }\n",
    ")"
   ]
  },
  {
   "cell_type": "markdown",
   "id": "71227e04-8bb0-46d5-862e-3fddfe0361ae",
   "metadata": {},
   "source": [
    "Retrives the aggregate model evalution metrics for the model as a whole.  First, use `.list_model_evaluations` to retrieve the evaluation id, then use `.get_model_evaluation` for the evaluation id:"
   ]
  },
  {
   "cell_type": "code",
   "execution_count": 21,
   "id": "974b597e-f01d-4147-a824-9a6ac8246a1f",
   "metadata": {
    "tags": []
   },
   "outputs": [],
   "source": [
    "evaluations = model_client.list_model_evaluations(parent = model.resource_name)\n",
    "evals = iter(evaluations)\n",
    "eval_id = next(evals).name\n",
    "geteval = model_client.get_model_evaluation(name = eval_id)"
   ]
  },
  {
   "cell_type": "markdown",
   "id": "39aa9551-2e4a-4673-b0d5-1ddec1233e0e",
   "metadata": {},
   "source": [
    "Review several of the metrics include in the evaluation.  Also, compare these to the results in the console view."
   ]
  },
  {
   "cell_type": "code",
   "execution_count": 22,
   "id": "8dd6e04f-c0ec-4ad1-a8be-460cddcb0267",
   "metadata": {
    "tags": []
   },
   "outputs": [
    {
     "data": {
      "text/plain": [
       "0.99993"
      ]
     },
     "execution_count": 22,
     "metadata": {},
     "output_type": "execute_result"
    }
   ],
   "source": [
    "geteval.metrics['auPrc']"
   ]
  },
  {
   "cell_type": "code",
   "execution_count": 23,
   "id": "edd9892b-eeac-4a64-aa9b-68a7a45a3e76",
   "metadata": {
    "tags": []
   },
   "outputs": [
    {
     "name": "stdout",
     "output_type": "stream",
     "text": [
      "True Label =  0  has Predicted labels =  [56522.0, 5.0, 0.0]\n",
      "True Label =  1  has Predicted labels =  [10.0, 50.0, 0.0]\n",
      "True Label =  DROPPED  has Predicted labels =  [0.0, 0.0, 0.0]\n"
     ]
    }
   ],
   "source": [
    "for i in range(len(geteval.metrics['confusionMatrix']['annotationSpecs'])):\n",
    "    print('True Label = ', geteval.metrics['confusionMatrix']['annotationSpecs'][i]['displayName'], ' has Predicted labels = ', geteval.metrics['confusionMatrix']['rows'][i])"
   ]
  },
  {
   "cell_type": "markdown",
   "id": "2266afe6-be3f-4565-afd9-cb839682df2c",
   "metadata": {},
   "source": [
    "For models with labels you can retrieve the evaluation metrics for each slice of the model:"
   ]
  },
  {
   "cell_type": "code",
   "execution_count": 24,
   "id": "045a6f0d-ab29-4825-a29e-335f5a1727e1",
   "metadata": {
    "tags": []
   },
   "outputs": [],
   "source": [
    "slices = model_client.list_model_evaluation_slices(parent = eval_id)"
   ]
  },
  {
   "cell_type": "code",
   "execution_count": 25,
   "id": "4b7b5c5a-d43c-4c77-8806-fa92f6438e19",
   "metadata": {
    "tags": []
   },
   "outputs": [
    {
     "name": "stdout",
     "output_type": "stream",
     "text": [
      "Label =  0 has auPrc =  0.99994653\n",
      "Label =  1 has auPrc =  0.91206044\n"
     ]
    }
   ],
   "source": [
    "for slice in slices:\n",
    "    print('Label = ', slice.slice_.value, 'has auPrc = ', slice.metrics['auPrc'])"
   ]
  },
  {
   "cell_type": "markdown",
   "id": "3ef3a49d",
   "metadata": {},
   "source": [
    "---\n",
    "## Endpoint and Deployment"
   ]
  },
  {
   "cell_type": "code",
   "execution_count": 27,
   "id": "f2e1d5e5",
   "metadata": {
    "tags": []
   },
   "outputs": [
    {
     "name": "stdout",
     "output_type": "stream",
     "text": [
      "Creating Endpoint\n",
      "Create Endpoint backing LRO: projects/112412469323/locations/us-central1/endpoints/7868956230364954624/operations/6425247469675741184\n",
      "Endpoint created. Resource name: projects/112412469323/locations/us-central1/endpoints/7868956230364954624\n",
      "To use this Endpoint in another session:\n",
      "endpoint = aiplatform.Endpoint('projects/112412469323/locations/us-central1/endpoints/7868956230364954624')\n"
     ]
    }
   ],
   "source": [
    "# max 10 min\n",
    "endpoint = aiplatform.Endpoint.create(\n",
    "    display_name = f'{NOTEBOOK}_{BQ_TABLE}_{TIMESTAMP}',\n",
    "    labels = {'notebook':f'{NOTEBOOK}'}\n",
    ")"
   ]
  },
  {
   "cell_type": "code",
   "execution_count": 28,
   "id": "7300dff3",
   "metadata": {
    "tags": []
   },
   "outputs": [
    {
     "name": "stdout",
     "output_type": "stream",
     "text": [
      "Deploying Model projects/112412469323/locations/us-central1/models/7735742700078497792 to Endpoint : projects/112412469323/locations/us-central1/endpoints/7868956230364954624\n",
      "Deploy Endpoint model backing LRO: projects/112412469323/locations/us-central1/endpoints/7868956230364954624/operations/8352788110190313472\n",
      "Endpoint model deployed. Resource name: projects/112412469323/locations/us-central1/endpoints/7868956230364954624\n"
     ]
    }
   ],
   "source": [
    "# takes 45 min\n",
    "endpoint.deploy(\n",
    "    model = model,\n",
    "    deployed_model_display_name = f'{NOTEBOOK}_{BQ_TABLE}_{TIMESTAMP}',\n",
    "    traffic_percentage = 100,\n",
    "    machine_type = DEPLOY_COMPUTE,\n",
    "    min_replica_count = 1,\n",
    "    max_replica_count = 1\n",
    ")"
   ]
  },
  {
   "cell_type": "markdown",
   "id": "a15d96ee",
   "metadata": {},
   "source": [
    "---\n",
    "## Prediction"
   ]
  },
  {
   "cell_type": "markdown",
   "id": "13e324b8",
   "metadata": {},
   "source": [
    "### Prepare a record for prediction: instance and parameters lists"
   ]
  },
  {
   "cell_type": "code",
   "execution_count": 29,
   "id": "7148bd5b",
   "metadata": {
    "tags": []
   },
   "outputs": [],
   "source": [
    "pred = bigquery.query(query = f\"SELECT * FROM {BQ_PROJECT}.{BQ_DATASET}.{BQ_TABLE}_prepped WHERE splits='TEST' LIMIT 10\").to_dataframe()"
   ]
  },
  {
   "cell_type": "code",
   "execution_count": 30,
   "id": "9055ac97",
   "metadata": {
    "tags": []
   },
   "outputs": [
    {
     "data": {
      "text/html": [
       "<div>\n",
       "<style scoped>\n",
       "    .dataframe tbody tr th:only-of-type {\n",
       "        vertical-align: middle;\n",
       "    }\n",
       "\n",
       "    .dataframe tbody tr th {\n",
       "        vertical-align: top;\n",
       "    }\n",
       "\n",
       "    .dataframe thead th {\n",
       "        text-align: right;\n",
       "    }\n",
       "</style>\n",
       "<table border=\"1\" class=\"dataframe\">\n",
       "  <thead>\n",
       "    <tr style=\"text-align: right;\">\n",
       "      <th></th>\n",
       "      <th>Time</th>\n",
       "      <th>V1</th>\n",
       "      <th>V2</th>\n",
       "      <th>V3</th>\n",
       "      <th>V4</th>\n",
       "      <th>V5</th>\n",
       "      <th>V6</th>\n",
       "      <th>V7</th>\n",
       "      <th>V8</th>\n",
       "      <th>V9</th>\n",
       "      <th>...</th>\n",
       "      <th>V25</th>\n",
       "      <th>V26</th>\n",
       "      <th>V27</th>\n",
       "      <th>V28</th>\n",
       "      <th>Amount</th>\n",
       "      <th>Class</th>\n",
       "      <th>Feedback</th>\n",
       "      <th>transaction_id</th>\n",
       "      <th>splits</th>\n",
       "      <th>service_account_email</th>\n",
       "    </tr>\n",
       "  </thead>\n",
       "  <tbody>\n",
       "    <tr>\n",
       "      <th>0</th>\n",
       "      <td>140317.0</td>\n",
       "      <td>2.108409</td>\n",
       "      <td>0.134713</td>\n",
       "      <td>-1.958079</td>\n",
       "      <td>0.267756</td>\n",
       "      <td>0.744460</td>\n",
       "      <td>-0.448830</td>\n",
       "      <td>0.160228</td>\n",
       "      <td>-0.173553</td>\n",
       "      <td>0.529731</td>\n",
       "      <td>...</td>\n",
       "      <td>-0.191452</td>\n",
       "      <td>0.214235</td>\n",
       "      <td>-0.060176</td>\n",
       "      <td>-0.037058</td>\n",
       "      <td>1.98</td>\n",
       "      <td>0</td>\n",
       "      <td>very satisfied.</td>\n",
       "      <td>9a9c7342-f550-40a1-90af-0e4fa21af71a</td>\n",
       "      <td>TEST</td>\n",
       "      <td>112412469323-compute@developer.gserviceaccount...</td>\n",
       "    </tr>\n",
       "    <tr>\n",
       "      <th>1</th>\n",
       "      <td>133768.0</td>\n",
       "      <td>2.021321</td>\n",
       "      <td>-0.348230</td>\n",
       "      <td>-1.042850</td>\n",
       "      <td>0.586625</td>\n",
       "      <td>-0.402463</td>\n",
       "      <td>-1.004997</td>\n",
       "      <td>-0.065193</td>\n",
       "      <td>-0.213470</td>\n",
       "      <td>1.072862</td>\n",
       "      <td>...</td>\n",
       "      <td>0.043567</td>\n",
       "      <td>0.638116</td>\n",
       "      <td>-0.071060</td>\n",
       "      <td>-0.067976</td>\n",
       "      <td>16.00</td>\n",
       "      <td>0</td>\n",
       "      <td>very satisfied.</td>\n",
       "      <td>de5b79f4-6cf4-440d-9a6e-c8af1268c089</td>\n",
       "      <td>TEST</td>\n",
       "      <td>112412469323-compute@developer.gserviceaccount...</td>\n",
       "    </tr>\n",
       "    <tr>\n",
       "      <th>2</th>\n",
       "      <td>18552.0</td>\n",
       "      <td>-0.265284</td>\n",
       "      <td>0.081207</td>\n",
       "      <td>1.595559</td>\n",
       "      <td>-1.671107</td>\n",
       "      <td>-0.359368</td>\n",
       "      <td>-0.158713</td>\n",
       "      <td>-0.188054</td>\n",
       "      <td>0.271057</td>\n",
       "      <td>2.710338</td>\n",
       "      <td>...</td>\n",
       "      <td>-1.159539</td>\n",
       "      <td>-1.066871</td>\n",
       "      <td>0.283226</td>\n",
       "      <td>0.230268</td>\n",
       "      <td>11.85</td>\n",
       "      <td>0</td>\n",
       "      <td>very satisfied.</td>\n",
       "      <td>0255dfa7-6846-4644-b5d2-b773c6fe3c81</td>\n",
       "      <td>TEST</td>\n",
       "      <td>112412469323-compute@developer.gserviceaccount...</td>\n",
       "    </tr>\n",
       "    <tr>\n",
       "      <th>3</th>\n",
       "      <td>152499.0</td>\n",
       "      <td>0.068814</td>\n",
       "      <td>0.975844</td>\n",
       "      <td>-0.333363</td>\n",
       "      <td>-0.632815</td>\n",
       "      <td>0.966233</td>\n",
       "      <td>-0.492556</td>\n",
       "      <td>0.889090</td>\n",
       "      <td>0.036201</td>\n",
       "      <td>-0.364427</td>\n",
       "      <td>...</td>\n",
       "      <td>-0.469374</td>\n",
       "      <td>0.091150</td>\n",
       "      <td>0.221669</td>\n",
       "      <td>0.076151</td>\n",
       "      <td>8.08</td>\n",
       "      <td>0</td>\n",
       "      <td>very satisfied.</td>\n",
       "      <td>ce6b1c21-01de-4fd7-9eb1-fbc5f9e18685</td>\n",
       "      <td>TEST</td>\n",
       "      <td>112412469323-compute@developer.gserviceaccount...</td>\n",
       "    </tr>\n",
       "  </tbody>\n",
       "</table>\n",
       "<p>4 rows × 35 columns</p>\n",
       "</div>"
      ],
      "text/plain": [
       "       Time        V1        V2        V3        V4        V5        V6  \\\n",
       "0  140317.0  2.108409  0.134713 -1.958079  0.267756  0.744460 -0.448830   \n",
       "1  133768.0  2.021321 -0.348230 -1.042850  0.586625 -0.402463 -1.004997   \n",
       "2   18552.0 -0.265284  0.081207  1.595559 -1.671107 -0.359368 -0.158713   \n",
       "3  152499.0  0.068814  0.975844 -0.333363 -0.632815  0.966233 -0.492556   \n",
       "\n",
       "         V7        V8        V9  ...       V25       V26       V27       V28  \\\n",
       "0  0.160228 -0.173553  0.529731  ... -0.191452  0.214235 -0.060176 -0.037058   \n",
       "1 -0.065193 -0.213470  1.072862  ...  0.043567  0.638116 -0.071060 -0.067976   \n",
       "2 -0.188054  0.271057  2.710338  ... -1.159539 -1.066871  0.283226  0.230268   \n",
       "3  0.889090  0.036201 -0.364427  ... -0.469374  0.091150  0.221669  0.076151   \n",
       "\n",
       "   Amount  Class          Feedback                        transaction_id  \\\n",
       "0    1.98      0   very satisfied.  9a9c7342-f550-40a1-90af-0e4fa21af71a   \n",
       "1   16.00      0   very satisfied.  de5b79f4-6cf4-440d-9a6e-c8af1268c089   \n",
       "2   11.85      0   very satisfied.  0255dfa7-6846-4644-b5d2-b773c6fe3c81   \n",
       "3    8.08      0   very satisfied.  ce6b1c21-01de-4fd7-9eb1-fbc5f9e18685   \n",
       "\n",
       "   splits                              service_account_email  \n",
       "0    TEST  112412469323-compute@developer.gserviceaccount...  \n",
       "1    TEST  112412469323-compute@developer.gserviceaccount...  \n",
       "2    TEST  112412469323-compute@developer.gserviceaccount...  \n",
       "3    TEST  112412469323-compute@developer.gserviceaccount...  \n",
       "\n",
       "[4 rows x 35 columns]"
      ]
     },
     "execution_count": 30,
     "metadata": {},
     "output_type": "execute_result"
    }
   ],
   "source": [
    "pred.head(4)"
   ]
  },
  {
   "cell_type": "code",
   "execution_count": 31,
   "id": "f2f80ac2",
   "metadata": {
    "tags": []
   },
   "outputs": [
    {
     "data": {
      "text/plain": [
       "{'Time': 140317.0,\n",
       " 'V1': 2.1084089279174805,\n",
       " 'V2': 0.13471318781375885,\n",
       " 'V3': -1.9580790996551514,\n",
       " 'V4': 0.2677558362483978,\n",
       " 'V5': 0.7444602847099304,\n",
       " 'V6': -0.4488302171230316,\n",
       " 'V7': 0.16022786498069763,\n",
       " 'V8': -0.173553466796875,\n",
       " 'V9': 0.5297311544418335,\n",
       " 'V10': -0.3866994082927704,\n",
       " 'V11': -1.0544523000717163,\n",
       " 'V12': -0.01848548837006092,\n",
       " 'V13': 0.19448408484458923,\n",
       " 'V14': -0.8805928230285645,\n",
       " 'V15': 0.2938603460788727,\n",
       " 'V16': 0.43323707580566406,\n",
       " 'V17': 0.30802515149116516,\n",
       " 'V18': -0.20233836770057678,\n",
       " 'V19': 0.20907585322856903,\n",
       " 'V20': -0.140361949801445,\n",
       " 'V21': -0.39812177419662476,\n",
       " 'V22': -1.030430555343628,\n",
       " 'V23': 0.27110952138900757,\n",
       " 'V24': -0.12115343660116196,\n",
       " 'V25': -0.19145162403583527,\n",
       " 'V26': 0.21423456072807312,\n",
       " 'V27': -0.06017601862549782,\n",
       " 'V28': -0.037057679146528244,\n",
       " 'Amount': 1.9800000190734863}"
      ]
     },
     "execution_count": 31,
     "metadata": {},
     "output_type": "execute_result"
    }
   ],
   "source": [
    "newob = pred[pred.columns[~pred.columns.isin(VAR_OMIT.split()+[VAR_TARGET, 'splits'])]].to_dict(orient='records')[0]\n",
    "newob"
   ]
  },
  {
   "cell_type": "markdown",
   "id": "64909cc0",
   "metadata": {},
   "source": [
    "Need to understand the format of variables that the predictions expect.  AutoML may convert the type of some variables. The following cells retrieve the model from the endpoint and its schemata:"
   ]
  },
  {
   "cell_type": "code",
   "execution_count": 32,
   "id": "44a386d9",
   "metadata": {
    "tags": []
   },
   "outputs": [],
   "source": [
    "instances = [json_format.ParseDict(newob, Value())]\n",
    "parameters = json_format.ParseDict({}, Value())"
   ]
  },
  {
   "cell_type": "markdown",
   "id": "6fa715ce",
   "metadata": {},
   "source": [
    "### Get Predictions: Python Client"
   ]
  },
  {
   "cell_type": "code",
   "execution_count": 33,
   "id": "b6f11350",
   "metadata": {
    "tags": []
   },
   "outputs": [],
   "source": [
    "prediction = endpoint.predict(instances=instances, parameters=parameters)"
   ]
  },
  {
   "cell_type": "code",
   "execution_count": 34,
   "id": "063eba38",
   "metadata": {
    "tags": []
   },
   "outputs": [
    {
     "data": {
      "text/plain": [
       "Prediction(predictions=[{'classes': ['0', '1'], 'scores': [0.9998180866241455, 0.0001818900200305507]}], deployed_model_id='3781156716247252992', metadata=None, model_version_id='1', model_resource_name='projects/112412469323/locations/us-central1/models/7735742700078497792', explanations=None)"
      ]
     },
     "execution_count": 34,
     "metadata": {},
     "output_type": "execute_result"
    }
   ],
   "source": [
    "prediction"
   ]
  },
  {
   "cell_type": "code",
   "execution_count": 35,
   "id": "30a5f2c7",
   "metadata": {
    "tags": []
   },
   "outputs": [
    {
     "data": {
      "text/plain": [
       "'0'"
      ]
     },
     "execution_count": 35,
     "metadata": {},
     "output_type": "execute_result"
    }
   ],
   "source": [
    "prediction.predictions[0]['classes'][np.argmax(prediction.predictions[0]['scores'])]"
   ]
  },
  {
   "cell_type": "markdown",
   "id": "37ff1640",
   "metadata": {},
   "source": [
    "### Get Predictions: REST"
   ]
  },
  {
   "cell_type": "code",
   "execution_count": 36,
   "id": "7c268d6d",
   "metadata": {
    "tags": []
   },
   "outputs": [],
   "source": [
    "with open(f'{DIR}/request.json','w') as file:\n",
    "    file.write(json.dumps({\"instances\": [newob]}))"
   ]
  },
  {
   "cell_type": "code",
   "execution_count": 37,
   "id": "2edca20a",
   "metadata": {
    "tags": []
   },
   "outputs": [
    {
     "name": "stdout",
     "output_type": "stream",
     "text": [
      "{\n",
      "  \"predictions\": [\n",
      "    {\n",
      "      \"scores\": [\n",
      "        0.99981808662414551,\n",
      "        0.00018189002003055071\n",
      "      ],\n",
      "      \"classes\": [\n",
      "        \"0\",\n",
      "        \"1\"\n",
      "      ]\n",
      "    }\n",
      "  ],\n",
      "  \"deployedModelId\": \"3781156716247252992\",\n",
      "  \"model\": \"projects/112412469323/locations/us-central1/models/7735742700078497792\",\n",
      "  \"modelDisplayName\": \"02_ulb_fraud_detection_20240416084855\",\n",
      "  \"modelVersionId\": \"1\"\n",
      "}\n"
     ]
    }
   ],
   "source": [
    "!curl -X POST \\\n",
    "-H \"Authorization: Bearer \"$(gcloud auth application-default print-access-token) \\\n",
    "-H \"Content-Type: application/json; charset=utf-8\" \\\n",
    "-d @{DIR}/request.json \\\n",
    "https://{REGION}-aiplatform.googleapis.com/v1/{endpoint.resource_name}:predict"
   ]
  },
  {
   "cell_type": "markdown",
   "id": "17d3a22b",
   "metadata": {},
   "source": [
    "### Get Predictions: gcloud (CLI)"
   ]
  },
  {
   "cell_type": "code",
   "execution_count": 38,
   "id": "2621a2e3",
   "metadata": {
    "tags": []
   },
   "outputs": [
    {
     "name": "stdout",
     "output_type": "stream",
     "text": [
      "Using endpoint [https://us-central1-prediction-aiplatform.googleapis.com/]\n",
      "[{'classes': ['0', '1'], 'scores': [0.9998180866241455, 0.0001818900200305507]}]\n"
     ]
    }
   ],
   "source": [
    "!gcloud beta ai endpoints predict {endpoint.name.rsplit('/',1)[-1]} --region={REGION} --json-request={DIR}/request.json"
   ]
  },
  {
   "cell_type": "markdown",
   "id": "aa2dbae2",
   "metadata": {},
   "source": [
    "\n",
    "## Explanations\n",
    "Interpretation Guide\n",
    "https://cloud.google.com/vertex-ai/docs/predictions/interpreting-results-automl#tabular"
   ]
  },
  {
   "cell_type": "code",
   "execution_count": 39,
   "id": "b44aedf4",
   "metadata": {
    "tags": []
   },
   "outputs": [],
   "source": [
    "explanation = endpoint.explain(instances=instances, parameters=parameters)"
   ]
  },
  {
   "cell_type": "code",
   "execution_count": 40,
   "id": "d64bcf23",
   "metadata": {
    "tags": []
   },
   "outputs": [
    {
     "data": {
      "text/plain": [
       "[{'classes': ['0', '1'],\n",
       "  'scores': [0.9998180866241455, 0.0001818900200305507]}]"
      ]
     },
     "execution_count": 40,
     "metadata": {},
     "output_type": "execute_result"
    }
   ],
   "source": [
    "explanation.predictions"
   ]
  },
  {
   "cell_type": "code",
   "execution_count": 41,
   "id": "5665a357",
   "metadata": {
    "tags": []
   },
   "outputs": [
    {
     "name": "stdout",
     "output_type": "stream",
     "text": [
      "attribution:\n",
      "baseline output 0.999780535697937\n",
      "instance output 0.9998180866241455\n",
      "output_index [0]\n",
      "output display value 0\n",
      "approximation error 0.007348579035397098\n"
     ]
    }
   ],
   "source": [
    "print(\"attribution:\")\n",
    "print(\"baseline output\",explanation.explanations[0].attributions[0].baseline_output_value)\n",
    "print(\"instance output\",explanation.explanations[0].attributions[0].instance_output_value)\n",
    "print(\"output_index\",explanation.explanations[0].attributions[0].output_index)\n",
    "print(\"output display value\",explanation.explanations[0].attributions[0].output_display_name)\n",
    "print(\"approximation error\",explanation.explanations[0].attributions[0].approximation_error)"
   ]
  },
  {
   "cell_type": "code",
   "execution_count": 42,
   "id": "f4658234",
   "metadata": {
    "tags": []
   },
   "outputs": [
    {
     "data": {
      "image/png": "[encoded data removed]",
      "text/plain": [
       "<Figure size 900x900 with 1 Axes>"
      ]
     },
     "metadata": {},
     "output_type": "display_data"
    }
   ],
   "source": [
    "import matplotlib.pyplot as plt\n",
    "features = []\n",
    "scores = []\n",
    "for k in explanation.explanations[0].attributions[0].feature_attributions:\n",
    "    features.append(k)\n",
    "    scores.append(explanation.explanations[0].attributions[0].feature_attributions[k])\n",
    "features = [x for _, x in sorted(zip(scores, features))]\n",
    "scores = sorted(scores)\n",
    "fig, ax = plt.subplots()\n",
    "fig.set_size_inches(9, 9)\n",
    "ax.barh(features, scores)\n",
    "fig.show()"
   ]
  },
  {
   "cell_type": "markdown",
   "id": "1c214f08",
   "metadata": {},
   "source": [
    "## Batch Predictions: BigQuery Source to BigQuery Destination, with Explanations"
   ]
  },
  {
   "cell_type": "code",
   "execution_count": null,
   "id": "71448467",
   "metadata": {
    "scrolled": true,
    "tags": []
   },
   "outputs": [
    {
     "name": "stdout",
     "output_type": "stream",
     "text": [
      "Creating BatchPredictionJob\n",
      "BatchPredictionJob created. Resource name: projects/112412469323/locations/us-central1/batchPredictionJobs/8687954988464340992\n",
      "To use this BatchPredictionJob in another session:\n",
      "bpj = aiplatform.BatchPredictionJob('projects/112412469323/locations/us-central1/batchPredictionJobs/8687954988464340992')\n",
      "View Batch Prediction Job:\n",
      "https://console.cloud.google.com/ai/platform/locations/us-central1/batch-predictions/8687954988464340992?project=112412469323\n",
      "BatchPredictionJob projects/112412469323/locations/us-central1/batchPredictionJobs/8687954988464340992 current state:\n",
      "JobState.JOB_STATE_PENDING\n",
      "BatchPredictionJob projects/112412469323/locations/us-central1/batchPredictionJobs/8687954988464340992 current state:\n",
      "JobState.JOB_STATE_PENDING\n",
      "BatchPredictionJob projects/112412469323/locations/us-central1/batchPredictionJobs/8687954988464340992 current state:\n",
      "JobState.JOB_STATE_PENDING\n",
      "BatchPredictionJob projects/112412469323/locations/us-central1/batchPredictionJobs/8687954988464340992 current state:\n",
      "JobState.JOB_STATE_PENDING\n",
      "BatchPredictionJob projects/112412469323/locations/us-central1/batchPredictionJobs/8687954988464340992 current state:\n",
      "JobState.JOB_STATE_RUNNING\n",
      "BatchPredictionJob projects/112412469323/locations/us-central1/batchPredictionJobs/8687954988464340992 current state:\n",
      "JobState.JOB_STATE_RUNNING\n",
      "BatchPredictionJob projects/112412469323/locations/us-central1/batchPredictionJobs/8687954988464340992 current state:\n",
      "JobState.JOB_STATE_RUNNING\n"
     ]
    }
   ],
   "source": [
    "# this job would take +2 hours,  depending on your infrastcuture\n",
    "batch = aiplatform.BatchPredictionJob.create(\n",
    "    job_display_name = f'{NOTEBOOK}_{BQ_TABLE}_{TIMESTAMP}',\n",
    "    model_name = model.name,\n",
    "    instances_format = \"bigquery\",\n",
    "    predictions_format = \"bigquery\",\n",
    "    bigquery_source = f'bq://{BQ_PROJECT}.{BQ_DATASET}.{BQ_TABLE}_prepped',\n",
    "    bigquery_destination_prefix = f\"{PROJECT_ID}\",\n",
    "    generate_explanation = True,\n",
    "    labels = {'notebook':f'{NOTEBOOK}'}\n",
    ")"
   ]
  },
  {
   "cell_type": "code",
   "execution_count": null,
   "id": "e75f52ec-5808-447c-aed4-093c4c523546",
   "metadata": {},
   "outputs": [],
   "source": []
  }
 ],
 "metadata": {
  "environment": {
   "kernel": "python3",
   "name": "tf2-cpu.2-11.m119",
   "type": "gcloud",
   "uri": "us-docker.pkg.dev/deeplearning-platform-release/gcr.io/tf2-cpu.2-11:m119"
  },
  "kernelspec": {
   "display_name": "Python 3 (Local)",
   "language": "python",
   "name": "python3"
  },
  "language_info": {
   "codemirror_mode": {
    "name": "ipython",
    "version": 3
   },
   "file_extension": ".py",
   "mimetype": "text/x-python",
   "name": "python",
   "nbconvert_exporter": "python",
   "pygments_lexer": "ipython3",
   "version": "3.10.14"
  }
 },
 "nbformat": 4,
 "nbformat_minor": 5
}
