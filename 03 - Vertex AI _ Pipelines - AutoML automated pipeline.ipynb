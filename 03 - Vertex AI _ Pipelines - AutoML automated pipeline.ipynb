{
 "cells": [
  {
   "cell_type": "markdown",
   "id": "3cebabe4",
   "metadata": {},
   "source": [
    "# 03 - Vertex AI > Pipelines - AutoML automated pipeline\n",
    "\n",
    "Use[ Kubeflow](https://www.kubeflow.org/) Pipelines running on [Vertex AI Pipelines](https://cloud.google.com/vertex-ai/docs/pipelines/introduction) to orchestrate the process of training a custom model with AutoML Tabular and deploy it to a Vertex AI Endpoint for serving (online and batch) predictions and explanations.  \n",
    "### Prerequisites:\n",
    "-  01 -  BigQuery - Table Data Source\n",
    "\n",
    "### Resources:\n",
    "-  [Vertex AI Pipelines](https://cloud.google.com/vertex-ai/docs/pipelines/build-pipeline#google-cloud-components) see aiplatform.PipelineJob\n",
    "-  [Python Client for Vertex AI](https://googleapis.dev/python/aiplatform/latest/aiplatform.html)\n",
    "-  [Kubeflow Pipelines Components for Google Cloud](https://github.com/kubeflow/pipelines/tree/master/components/google-cloud)\n",
    "\n",
    "### Related Training:\n",
    "-  Codelab: [Vertex AI Pipelines Introduction](https://codelabs.developers.google.com/vertex-mlmd-pipelines#0)\n"
   ]
  },
  {
   "cell_type": "markdown",
   "id": "229cef71",
   "metadata": {},
   "source": [
    "## Setup"
   ]
  },
  {
   "cell_type": "markdown",
   "id": "4b6b82e4",
   "metadata": {},
   "source": [
    "inputs:"
   ]
  },
  {
   "cell_type": "code",
   "execution_count": 64,
   "id": "63e4ffbd-4d77-4074-b84a-a9a10fe0b606",
   "metadata": {
    "tags": []
   },
   "outputs": [
    {
     "data": {
      "text/plain": [
       "'genai-demo-2024'"
      ]
     },
     "execution_count": 64,
     "metadata": {},
     "output_type": "execute_result"
    }
   ],
   "source": [
    "project = !gcloud config get-value project\n",
    "PROJECT_ID = project[0]\n",
    "PROJECT_ID"
   ]
  },
  {
   "cell_type": "code",
   "execution_count": 65,
   "id": "b255bf32",
   "metadata": {
    "tags": []
   },
   "outputs": [],
   "source": [
    "REGION = 'us-central1'\n",
    "# source data\n",
    "BQ_PROJECT = PROJECT_ID\n",
    "BQ_DATASET = 'ml_datasets'\n",
    "BQ_TABLE = 'ulb_fraud_detection'\n",
    "NOTEBOOK = '03'\n",
    "\n",
    "# Resources\n",
    "DEPLOY_COMPUTE = 'n1-standard-4'\n",
    "\n",
    "# Model Training\n",
    "VAR_TARGET = 'Class'\n",
    "VAR_OMIT = 'transaction_id Feedback' # add more variables to the string with space delimiters"
   ]
  },
  {
   "cell_type": "markdown",
   "id": "00693f36",
   "metadata": {},
   "source": [
    "packages:"
   ]
  },
  {
   "cell_type": "code",
   "execution_count": 3,
   "id": "d1e6b18c-6deb-41dc-a632-8b305705eeec",
   "metadata": {},
   "outputs": [],
   "source": [
    "#!pip install -U google-cloud-pipeline-components -U -q"
   ]
  },
  {
   "cell_type": "code",
   "execution_count": 66,
   "id": "f3bf8620",
   "metadata": {
    "tags": []
   },
   "outputs": [],
   "source": [
    "from google.cloud import aiplatform\n",
    "from datetime import datetime\n",
    "import kfp\n",
    "from kfp import compiler\n",
    "#import kfp.v2.dsl as dsl\n",
    "#import google_cloud_pipeline_components as gcc_aip\n",
    "from google_cloud_pipeline_components.v1.dataset import TabularDatasetCreateOp\n",
    "from google_cloud_pipeline_components.v1.automl.training_job import AutoMLTabularTrainingJobRunOp\n",
    "from google_cloud_pipeline_components.v1.endpoint import EndpointCreateOp, ModelDeployOp\n",
    "\n",
    "from google.cloud import bigquery\n",
    "from google.protobuf import json_format\n",
    "from google.protobuf.struct_pb2 import Value\n",
    "import json\n",
    "import numpy as np"
   ]
  },
  {
   "cell_type": "markdown",
   "id": "b01a4860",
   "metadata": {},
   "source": [
    "clients:"
   ]
  },
  {
   "cell_type": "code",
   "execution_count": 67,
   "id": "d0f88c50",
   "metadata": {
    "tags": []
   },
   "outputs": [],
   "source": [
    "aiplatform.init(project=PROJECT_ID, location=REGION)\n",
    "bq = bigquery.Client()"
   ]
  },
  {
   "cell_type": "markdown",
   "id": "8d14fbbc",
   "metadata": {},
   "source": [
    "parameters:"
   ]
  },
  {
   "cell_type": "code",
   "execution_count": 68,
   "id": "f65b2223",
   "metadata": {
    "tags": []
   },
   "outputs": [],
   "source": [
    "TIMESTAMP = datetime.now().strftime(\"%Y%m%d%H%M%S\")\n",
    "BUCKET = PROJECT_ID\n",
    "URI = f\"gs://{BUCKET}/{BQ_TABLE}/models/{NOTEBOOK}\"\n",
    "DIR = f\"temp/{NOTEBOOK}\""
   ]
  },
  {
   "cell_type": "code",
   "execution_count": 69,
   "id": "2c68630e-4fe3-473d-abb3-16d39fb782e8",
   "metadata": {
    "tags": []
   },
   "outputs": [
    {
     "data": {
      "text/plain": [
       "'292219499736-compute@developer.gserviceaccount.com'"
      ]
     },
     "execution_count": 69,
     "metadata": {},
     "output_type": "execute_result"
    }
   ],
   "source": [
    "SERVICE_ACCOUNT = !gcloud config list --format='value(core.account)' \n",
    "SERVICE_ACCOUNT = SERVICE_ACCOUNT[0]\n",
    "SERVICE_ACCOUNT"
   ]
  },
  {
   "cell_type": "markdown",
   "id": "d1d35908-9b69-40be-97dc-fb4fb0279709",
   "metadata": {},
   "source": [
    "List the service accounts current roles:"
   ]
  },
  {
   "cell_type": "code",
   "execution_count": 70,
   "id": "a9f46306-bd55-425a-951a-fd2753807b91",
   "metadata": {
    "tags": []
   },
   "outputs": [
    {
     "name": "stdout",
     "output_type": "stream",
     "text": [
      "ROLE\n",
      "roles/aiplatform.admin\n",
      "roles/aiplatform.notebookRuntimeAdmin\n",
      "roles/aiplatform.user\n",
      "roles/artifactregistry.admin\n",
      "roles/bigquery.admin\n",
      "roles/cloudbuild.builds.editor\n",
      "roles/cloudfunctions.admin\n",
      "roles/cloudscheduler.admin\n",
      "roles/dataproc.worker\n",
      "roles/dialogflow.client\n",
      "roles/dialogflow.reader\n",
      "roles/iam.serviceAccountAdmin\n",
      "roles/iam.serviceAccountUser\n",
      "roles/logging.admin\n",
      "roles/ml.admin\n",
      "roles/notebooks.runner\n",
      "roles/pubsub.admin\n",
      "roles/resourcemanager.projectIamAdmin\n",
      "roles/run.admin\n",
      "roles/secretmanager.admin\n",
      "roles/serviceusage.serviceUsageAdmin\n",
      "roles/serviceusage.serviceUsageConsumer\n",
      "roles/storage.admin\n",
      "roles/storage.objectAdmin\n"
     ]
    }
   ],
   "source": [
    "!gcloud projects get-iam-policy $PROJECT_ID --filter=\"bindings.members:$SERVICE_ACCOUNT\" --format='table(bindings.role)' --flatten=\"bindings[].members\""
   ]
  },
  {
   "cell_type": "markdown",
   "id": "e8343a71-3484-4352-9753-ec045cb6dfc5",
   "metadata": {},
   "source": [
    ">Note: If the resulting list is missing [roles/storage.objectAdmin](https://cloud.google.com/storage/docs/access-control/iam-roles) then [revisit the setup notebook](../00%20-%20Setup/00%20-%20Environment%20Setup.ipynb#permissions) and add this permission to the service account with the provided instructions."
   ]
  },
  {
   "cell_type": "markdown",
   "id": "10f15187",
   "metadata": {},
   "source": [
    "environment:"
   ]
  },
  {
   "cell_type": "code",
   "execution_count": 71,
   "id": "f7383876",
   "metadata": {
    "tags": []
   },
   "outputs": [],
   "source": [
    "!rm -rf {DIR}\n",
    "!mkdir -p {DIR}"
   ]
  },
  {
   "cell_type": "markdown",
   "id": "c08c3499",
   "metadata": {},
   "source": [
    "## Pipeline (KFP) Definition\n",
    "- Flow\n",
    "    - Create Vertex AI Dataset from link to BigQuery table\n",
    "    - Create Vertex AI AutoML Tabular Training Job\n",
    "    - Create Endpoint and Depoy trained model\n",
    "    \n",
    "Use [AI Platform Pipeline Components](https://google-cloud-pipeline-components.readthedocs.io/en/google-cloud-pipeline-components-0.2.0/)\n",
    "- Specifically, [AutoMLTabularTrainingJobRunOp](https://google-cloud-pipeline-components.readthedocs.io/en/google-cloud-pipeline-components-0.2.0/google_cloud_pipeline_components.aiplatform.html#google_cloud_pipeline_components.aiplatform.AutoMLTabularTrainingJobRunOp)\n",
    "\n",
    "Define a Job:\n",
    "- Consider Weighting\n",
    "- Model Type\n",
    "- Optimization Objective"
   ]
  },
  {
   "cell_type": "code",
   "execution_count": 72,
   "id": "eb85abc1",
   "metadata": {
    "tags": []
   },
   "outputs": [],
   "source": [
    "@kfp.dsl.pipeline(\n",
    "    name = f'kfp-{NOTEBOOK}-{BQ_TABLE}-{TIMESTAMP}',\n",
    "    pipeline_root = URI+'/'+str(TIMESTAMP)+'/kfp/'\n",
    ")\n",
    "def pipeline(\n",
    "    project: str,\n",
    "    dataname: str,\n",
    "    display_name: str,\n",
    "    deploy_machine: str,\n",
    "    bq_source: str,\n",
    "    var_target: str,\n",
    "    var_omit: str,\n",
    "    features: dict,\n",
    "    labels: dict \n",
    "):\n",
    "    \n",
    "    # dataset\n",
    "    dataset = TabularDatasetCreateOp(\n",
    "        project = project,\n",
    "        display_name = display_name,\n",
    "        bq_source = bq_source,\n",
    "        labels = labels\n",
    "    )\n",
    "    \n",
    "    # training\n",
    "    model = AutoMLTabularTrainingJobRunOp(\n",
    "        project = project,\n",
    "        display_name = display_name,\n",
    "        optimization_prediction_type = \"classification\",\n",
    "        optimization_objective = \"maximize-au-prc\",\n",
    "        budget_milli_node_hours = 1000,\n",
    "        disable_early_stopping=False,\n",
    "        column_specs = features,\n",
    "        dataset = dataset.outputs['dataset'],\n",
    "        target_column = var_target,\n",
    "        predefined_split_column_name = 'splits',\n",
    "        labels = labels\n",
    "    )\n",
    "    \n",
    "    # Endpoint: Creation\n",
    "    endpoint = EndpointCreateOp(\n",
    "        project = project,\n",
    "        display_name = display_name,\n",
    "        labels = labels\n",
    "    )\n",
    "    \n",
    "    # Endpoint: Deployment of Model\n",
    "    deployment = ModelDeployOp(\n",
    "        model = model.outputs[\"model\"],\n",
    "        endpoint = endpoint.outputs[\"endpoint\"],\n",
    "        dedicated_resources_min_replica_count = 1,\n",
    "        dedicated_resources_max_replica_count = 1,\n",
    "        traffic_split = {\"0\": 100},\n",
    "        dedicated_resources_machine_type= deploy_machine\n",
    "    )"
   ]
  },
  {
   "cell_type": "markdown",
   "id": "4bd7cda6",
   "metadata": {},
   "source": [
    "---\n",
    "## Compile Pipeline"
   ]
  },
  {
   "cell_type": "code",
   "execution_count": 73,
   "id": "db3e8ce2",
   "metadata": {
    "tags": []
   },
   "outputs": [],
   "source": [
    "compiler.Compiler().compile(\n",
    "    pipeline_func = pipeline,\n",
    "    package_path = f\"{DIR}/{NOTEBOOK}.json\"\n",
    ")"
   ]
  },
  {
   "cell_type": "markdown",
   "id": "72d3a04e",
   "metadata": {},
   "source": [
    "Move compiled pipeline files to GCS Bucket"
   ]
  },
  {
   "cell_type": "code",
   "execution_count": 74,
   "id": "671d4cbe",
   "metadata": {
    "tags": []
   },
   "outputs": [
    {
     "name": "stdout",
     "output_type": "stream",
     "text": [
      "Copying file://temp/03/03.json [Content-Type=application/json]...\n",
      "/ [1 files][ 46.6 KiB/ 46.6 KiB]                                                \n",
      "Operation completed over 1 objects/46.6 KiB.                                     \n"
     ]
    }
   ],
   "source": [
    "!gsutil cp {DIR}/{NOTEBOOK}.json {URI}/{TIMESTAMP}/kfp/"
   ]
  },
  {
   "cell_type": "markdown",
   "id": "45241ff1",
   "metadata": {},
   "source": [
    "---\n",
    "## Create Vertex AI Pipeline Job"
   ]
  },
  {
   "cell_type": "markdown",
   "id": "9fed3319-fac1-45bb-9483-e02cfd4e0e3e",
   "metadata": {},
   "source": [
    "Get features dictionary for the pipeline input:"
   ]
  },
  {
   "cell_type": "code",
   "execution_count": 75,
   "id": "0ad629ff-3843-4e54-8a80-27bd7bb20cb7",
   "metadata": {
    "tags": []
   },
   "outputs": [
    {
     "data": {
      "text/plain": [
       "\"SELECT * FROM genai-demo-2024.ml_datasets.INFORMATION_SCHEMA.COLUMNS WHERE TABLE_NAME = 'ulb_fraud_detection_prepped'\""
      ]
     },
     "execution_count": 75,
     "metadata": {},
     "output_type": "execute_result"
    }
   ],
   "source": [
    "# get feature names\n",
    "query = f\"SELECT * FROM {BQ_PROJECT}.{BQ_DATASET}.INFORMATION_SCHEMA.COLUMNS WHERE TABLE_NAME = '{BQ_TABLE}_prepped'\"\n",
    "schema = bq.query(query).to_dataframe()\n",
    "OMIT = VAR_OMIT.split() + [VAR_TARGET, 'splits']\n",
    "features = schema[~schema.column_name.isin(OMIT)].column_name.tolist()\n",
    "features = dict.fromkeys(features, 'auto')\n",
    "\n",
    "query\n"
   ]
  },
  {
   "cell_type": "markdown",
   "id": "0adf1a54-05f1-48f9-99e5-3de1c8f40bd5",
   "metadata": {},
   "source": [
    "Run The pipeline:"
   ]
  },
  {
   "cell_type": "code",
   "execution_count": 76,
   "id": "f5dd3e4c",
   "metadata": {
    "tags": []
   },
   "outputs": [],
   "source": [
    "pipeline = aiplatform.PipelineJob(\n",
    "    display_name = f'{NOTEBOOK}_{BQ_TABLE}_{TIMESTAMP}',\n",
    "    template_path = f\"{URI}/{TIMESTAMP}/kfp/{NOTEBOOK}.json\",\n",
    "    parameter_values = {\n",
    "        \"project\" : PROJECT_ID,\n",
    "        \"dataname\" : BQ_TABLE,\n",
    "        \"display_name\" : f'{NOTEBOOK}_{BQ_TABLE}_{TIMESTAMP}',\n",
    "        \"deploy_machine\" : DEPLOY_COMPUTE,\n",
    "        \"bq_source\" : f'bq://{BQ_PROJECT}.{BQ_DATASET}.{BQ_TABLE}_prepped',\n",
    "        \"var_target\" : VAR_TARGET,\n",
    "        \"var_omit\" : VAR_OMIT,\n",
    "        \"features\" : features,\n",
    "        \"labels\" : {'notebook': NOTEBOOK}       \n",
    "    },\n",
    "    labels = {'notebook': NOTEBOOK},\n",
    "    enable_caching=False\n",
    ")"
   ]
  },
  {
   "cell_type": "code",
   "execution_count": null,
   "id": "5ee521df",
   "metadata": {
    "scrolled": true,
    "tags": []
   },
   "outputs": [
    {
     "name": "stdout",
     "output_type": "stream",
     "text": [
      "Creating PipelineJob\n",
      "PipelineJob created. Resource name: projects/292219499736/locations/us-central1/pipelineJobs/kfp-03-ulb-fraud-detection-20240409142755-20240409144542\n",
      "To use this PipelineJob in another session:\n",
      "pipeline_job = aiplatform.PipelineJob.get('projects/292219499736/locations/us-central1/pipelineJobs/kfp-03-ulb-fraud-detection-20240409142755-20240409144542')\n",
      "View Pipeline Job:\n",
      "https://console.cloud.google.com/vertex-ai/locations/us-central1/pipelines/runs/kfp-03-ulb-fraud-detection-20240409142755-20240409144542?project=292219499736\n",
      "PipelineJob projects/292219499736/locations/us-central1/pipelineJobs/kfp-03-ulb-fraud-detection-20240409142755-20240409144542 current state:\n",
      "PipelineState.PIPELINE_STATE_RUNNING\n",
      "PipelineJob projects/292219499736/locations/us-central1/pipelineJobs/kfp-03-ulb-fraud-detection-20240409142755-20240409144542 current state:\n",
      "PipelineState.PIPELINE_STATE_RUNNING\n",
      "PipelineJob projects/292219499736/locations/us-central1/pipelineJobs/kfp-03-ulb-fraud-detection-20240409142755-20240409144542 current state:\n",
      "PipelineState.PIPELINE_STATE_RUNNING\n",
      "PipelineJob projects/292219499736/locations/us-central1/pipelineJobs/kfp-03-ulb-fraud-detection-20240409142755-20240409144542 current state:\n",
      "PipelineState.PIPELINE_STATE_RUNNING\n",
      "PipelineJob projects/292219499736/locations/us-central1/pipelineJobs/kfp-03-ulb-fraud-detection-20240409142755-20240409144542 current state:\n",
      "PipelineState.PIPELINE_STATE_RUNNING\n",
      "PipelineJob projects/292219499736/locations/us-central1/pipelineJobs/kfp-03-ulb-fraud-detection-20240409142755-20240409144542 current state:\n",
      "PipelineState.PIPELINE_STATE_RUNNING\n",
      "PipelineJob projects/292219499736/locations/us-central1/pipelineJobs/kfp-03-ulb-fraud-detection-20240409142755-20240409144542 current state:\n",
      "PipelineState.PIPELINE_STATE_RUNNING\n",
      "PipelineJob projects/292219499736/locations/us-central1/pipelineJobs/kfp-03-ulb-fraud-detection-20240409142755-20240409144542 current state:\n",
      "PipelineState.PIPELINE_STATE_RUNNING\n",
      "PipelineJob projects/292219499736/locations/us-central1/pipelineJobs/kfp-03-ulb-fraud-detection-20240409142755-20240409144542 current state:\n",
      "PipelineState.PIPELINE_STATE_RUNNING\n",
      "PipelineJob projects/292219499736/locations/us-central1/pipelineJobs/kfp-03-ulb-fraud-detection-20240409142755-20240409144542 current state:\n",
      "PipelineState.PIPELINE_STATE_RUNNING\n",
      "PipelineJob projects/292219499736/locations/us-central1/pipelineJobs/kfp-03-ulb-fraud-detection-20240409142755-20240409144542 current state:\n",
      "PipelineState.PIPELINE_STATE_RUNNING\n",
      "PipelineJob projects/292219499736/locations/us-central1/pipelineJobs/kfp-03-ulb-fraud-detection-20240409142755-20240409144542 current state:\n",
      "PipelineState.PIPELINE_STATE_RUNNING\n",
      "PipelineJob projects/292219499736/locations/us-central1/pipelineJobs/kfp-03-ulb-fraud-detection-20240409142755-20240409144542 current state:\n",
      "PipelineState.PIPELINE_STATE_RUNNING\n",
      "PipelineJob projects/292219499736/locations/us-central1/pipelineJobs/kfp-03-ulb-fraud-detection-20240409142755-20240409144542 current state:\n",
      "PipelineState.PIPELINE_STATE_RUNNING\n",
      "PipelineJob projects/292219499736/locations/us-central1/pipelineJobs/kfp-03-ulb-fraud-detection-20240409142755-20240409144542 current state:\n",
      "PipelineState.PIPELINE_STATE_RUNNING\n",
      "PipelineJob projects/292219499736/locations/us-central1/pipelineJobs/kfp-03-ulb-fraud-detection-20240409142755-20240409144542 current state:\n",
      "PipelineState.PIPELINE_STATE_RUNNING\n",
      "PipelineJob projects/292219499736/locations/us-central1/pipelineJobs/kfp-03-ulb-fraud-detection-20240409142755-20240409144542 current state:\n",
      "PipelineState.PIPELINE_STATE_RUNNING\n",
      "PipelineJob projects/292219499736/locations/us-central1/pipelineJobs/kfp-03-ulb-fraud-detection-20240409142755-20240409144542 current state:\n",
      "PipelineState.PIPELINE_STATE_RUNNING\n",
      "PipelineJob projects/292219499736/locations/us-central1/pipelineJobs/kfp-03-ulb-fraud-detection-20240409142755-20240409144542 current state:\n",
      "PipelineState.PIPELINE_STATE_RUNNING\n"
     ]
    }
   ],
   "source": [
    "# 2h17min\n",
    "response = pipeline.run(\n",
    "    service_account = SERVICE_ACCOUNT\n",
    ")"
   ]
  },
  {
   "cell_type": "markdown",
   "id": "6e4c8e67-bceb-4629-a246-6a6f18a1c530",
   "metadata": {},
   "source": [
    "Visual Representation of the pipeline can be viewed in the colsole:"
   ]
  },
  {
   "cell_type": "code",
   "execution_count": null,
   "id": "bd262fe9-0693-446a-be88-779e15fb0809",
   "metadata": {
    "tags": []
   },
   "outputs": [],
   "source": [
    "print(f\"Review the Pipeline as it runs here:\\nhttps://console.cloud.google.com/vertex-ai/locations/{REGION}/pipelines/runs/{pipeline.resource_name.split('/')[-1]}?project={PROJECT_ID}\")"
   ]
  },
  {
   "cell_type": "markdown",
   "id": "9d982aa6-2999-47f6-92a0-01510050e681",
   "metadata": {},
   "source": [
    "Retrieve the pipeline information:"
   ]
  },
  {
   "cell_type": "code",
   "execution_count": 81,
   "id": "29ff7495",
   "metadata": {
    "tags": []
   },
   "outputs": [
    {
     "data": {
      "text/html": [
       "<div>\n",
       "<style scoped>\n",
       "    .dataframe tbody tr th:only-of-type {\n",
       "        vertical-align: middle;\n",
       "    }\n",
       "\n",
       "    .dataframe tbody tr th {\n",
       "        vertical-align: top;\n",
       "    }\n",
       "\n",
       "    .dataframe thead th {\n",
       "        text-align: right;\n",
       "    }\n",
       "</style>\n",
       "<table border=\"1\" class=\"dataframe\">\n",
       "  <thead>\n",
       "    <tr style=\"text-align: right;\">\n",
       "      <th></th>\n",
       "      <th>pipeline_name</th>\n",
       "      <th>run_name</th>\n",
       "      <th>param.input:bq_source</th>\n",
       "      <th>param.input:labels</th>\n",
       "      <th>param.input:features</th>\n",
       "      <th>param.input:var_target</th>\n",
       "      <th>param.input:dataname</th>\n",
       "      <th>param.vmlmd_lineage_integration</th>\n",
       "      <th>param.input:project</th>\n",
       "      <th>param.input:display_name</th>\n",
       "      <th>param.input:deploy_machine</th>\n",
       "      <th>param.input:var_omit</th>\n",
       "    </tr>\n",
       "  </thead>\n",
       "  <tbody>\n",
       "    <tr>\n",
       "      <th>0</th>\n",
       "      <td>kfp-03-ulb-fraud-detection-20240409142755</td>\n",
       "      <td>kfp-03-ulb-fraud-detection-20240409142755-2024...</td>\n",
       "      <td>bq://genai-demo-2024.ml_datasets.ulb_fraud_det...</td>\n",
       "      <td>{'notebook': '03'}</td>\n",
       "      <td>{'V23': 'auto', 'V21': 'auto', 'Amount': 'auto...</td>\n",
       "      <td>Class</td>\n",
       "      <td>ulb_fraud_detection</td>\n",
       "      <td>{'pipeline_run_component': {'location_id': 'us...</td>\n",
       "      <td>genai-demo-2024</td>\n",
       "      <td>03_ulb_fraud_detection_20240409142755</td>\n",
       "      <td>n1-standard-4</td>\n",
       "      <td>transaction_id Feedback</td>\n",
       "    </tr>\n",
       "    <tr>\n",
       "      <th>1</th>\n",
       "      <td>kfp-03-ulb-fraud-detection-20240409142755</td>\n",
       "      <td>kfp-03-ulb-fraud-detection-20240409142755-2024...</td>\n",
       "      <td>bq://genai-demo-2024.ml_datasets.ulb_fraud_det...</td>\n",
       "      <td>{'notebook': '03'}</td>\n",
       "      <td>{}</td>\n",
       "      <td>Class</td>\n",
       "      <td>ulb_fraud_detection</td>\n",
       "      <td>{'pipeline_run_component': {'location_id': 'us...</td>\n",
       "      <td>genai-demo-2024</td>\n",
       "      <td>03_ulb_fraud_detection_20240409142755</td>\n",
       "      <td>n1-standard-4</td>\n",
       "      <td>transaction_id Feedback</td>\n",
       "    </tr>\n",
       "  </tbody>\n",
       "</table>\n",
       "</div>"
      ],
      "text/plain": [
       "                               pipeline_name  \\\n",
       "0  kfp-03-ulb-fraud-detection-20240409142755   \n",
       "1  kfp-03-ulb-fraud-detection-20240409142755   \n",
       "\n",
       "                                            run_name  \\\n",
       "0  kfp-03-ulb-fraud-detection-20240409142755-2024...   \n",
       "1  kfp-03-ulb-fraud-detection-20240409142755-2024...   \n",
       "\n",
       "                               param.input:bq_source  param.input:labels  \\\n",
       "0  bq://genai-demo-2024.ml_datasets.ulb_fraud_det...  {'notebook': '03'}   \n",
       "1  bq://genai-demo-2024.ml_datasets.ulb_fraud_det...  {'notebook': '03'}   \n",
       "\n",
       "                                param.input:features param.input:var_target  \\\n",
       "0  {'V23': 'auto', 'V21': 'auto', 'Amount': 'auto...                  Class   \n",
       "1                                                 {}                  Class   \n",
       "\n",
       "  param.input:dataname                    param.vmlmd_lineage_integration  \\\n",
       "0  ulb_fraud_detection  {'pipeline_run_component': {'location_id': 'us...   \n",
       "1  ulb_fraud_detection  {'pipeline_run_component': {'location_id': 'us...   \n",
       "\n",
       "  param.input:project               param.input:display_name  \\\n",
       "0     genai-demo-2024  03_ulb_fraud_detection_20240409142755   \n",
       "1     genai-demo-2024  03_ulb_fraud_detection_20240409142755   \n",
       "\n",
       "  param.input:deploy_machine     param.input:var_omit  \n",
       "0              n1-standard-4  transaction_id Feedback  \n",
       "1              n1-standard-4  transaction_id Feedback  "
      ]
     },
     "execution_count": 81,
     "metadata": {},
     "output_type": "execute_result"
    }
   ],
   "source": [
    "aiplatform.get_pipeline_df(pipeline = f'kfp-{NOTEBOOK}-{BQ_TABLE}-{TIMESTAMP}')\n",
    "\n",
    "#aiplatform.get_pipeline_df(pipeline = 'kfp-03-ulb-fraud-detection-20240409142755')"
   ]
  },
  {
   "cell_type": "markdown",
   "id": "0523ffaa-9dfb-41cb-b7b5-6cc6ddae1613",
   "metadata": {
    "tags": []
   },
   "source": [
    "---\n",
    "## Evaluation\n",
    "While the model above was trained using AutoML with the API, it is still possible to review the evaluation metrics directly in the Google Cloud Console.  Just visit the Models section of Vertex AI service and select the model and it will present the evaluation metrics with many helpful visuals.\n",
    "\n",
    "It is also possible to retrieve the evaluation metrics for you model using the API.  This section shows how to use the API."
   ]
  },
  {
   "cell_type": "markdown",
   "id": "27b1c3f1",
   "metadata": {},
   "source": [
    "Get the Model:"
   ]
  },
  {
   "cell_type": "code",
   "execution_count": 82,
   "id": "b6634c0d",
   "metadata": {
    "tags": []
   },
   "outputs": [],
   "source": [
    "models = aiplatform.Model.list(filter=f'labels.notebook={NOTEBOOK}')"
   ]
  },
  {
   "cell_type": "code",
   "execution_count": 83,
   "id": "a4f7b61b-ad0f-487b-8dc6-ac8ed12e6afb",
   "metadata": {
    "tags": []
   },
   "outputs": [
    {
     "data": {
      "text/plain": [
       "'projects/292219499736/locations/us-central1/models/4143699784785461248'"
      ]
     },
     "execution_count": 83,
     "metadata": {},
     "output_type": "execute_result"
    }
   ],
   "source": [
    "model = models[0]\n",
    "model.resource_name"
   ]
  },
  {
   "cell_type": "markdown",
   "id": "71227e04-8bb0-46d5-862e-3fddfe0361ae",
   "metadata": {},
   "source": [
    "Retrives the aggregate model evalution metrics for the model as a whole.  \n",
    "\n",
    "Either:\n",
    "- First, use `model.list_model_evaluations()` to retrieve the evaluation id, then use `model.get_model_evaluation(evaluation_id = )` for the evaluation id\n",
    "- Or, use `.get_model_evaluation()` and it will retrieve the first model evaluation"
   ]
  },
  {
   "cell_type": "code",
   "execution_count": 84,
   "id": "b7b5d7e0-6ef5-4787-a5d0-953848318989",
   "metadata": {
    "tags": []
   },
   "outputs": [
    {
     "data": {
      "text/html": [
       "\n",
       "        \n",
       "    <link rel=\"stylesheet\" href=\"https://fonts.googleapis.com/icon?family=Material+Icons\">\n",
       "    <style>\n",
       "      .view-vertex-resource,\n",
       "      .view-vertex-resource:hover,\n",
       "      .view-vertex-resource:visited {\n",
       "        position: relative;\n",
       "        display: inline-flex;\n",
       "        flex-direction: row;\n",
       "        height: 32px;\n",
       "        padding: 0 12px;\n",
       "          margin: 4px 18px;\n",
       "        gap: 4px;\n",
       "        border-radius: 4px;\n",
       "\n",
       "        align-items: center;\n",
       "        justify-content: center;\n",
       "        background-color: rgb(255, 255, 255);\n",
       "        color: rgb(51, 103, 214);\n",
       "\n",
       "        font-family: Roboto,\"Helvetica Neue\",sans-serif;\n",
       "        font-size: 13px;\n",
       "        font-weight: 500;\n",
       "        text-transform: uppercase;\n",
       "        text-decoration: none !important;\n",
       "\n",
       "        transition: box-shadow 280ms cubic-bezier(0.4, 0, 0.2, 1) 0s;\n",
       "        box-shadow: 0px 3px 1px -2px rgba(0,0,0,0.2), 0px 2px 2px 0px rgba(0,0,0,0.14), 0px 1px 5px 0px rgba(0,0,0,0.12);\n",
       "      }\n",
       "      .view-vertex-resource:active {\n",
       "        box-shadow: 0px 5px 5px -3px rgba(0,0,0,0.2),0px 8px 10px 1px rgba(0,0,0,0.14),0px 3px 14px 2px rgba(0,0,0,0.12);\n",
       "      }\n",
       "      .view-vertex-resource:active .view-vertex-ripple::before {\n",
       "        position: absolute;\n",
       "        top: 0;\n",
       "        bottom: 0;\n",
       "        left: 0;\n",
       "        right: 0;\n",
       "        border-radius: 4px;\n",
       "        pointer-events: none;\n",
       "\n",
       "        content: '';\n",
       "        background-color: rgb(51, 103, 214);\n",
       "        opacity: 0.12;\n",
       "      }\n",
       "      .view-vertex-icon {\n",
       "        font-size: 18px;\n",
       "      }\n",
       "    </style>\n",
       "  \n",
       "        <a class=\"view-vertex-resource\" id=\"view-vertex-resource-3778998e-a031-46bd-9436-02258562f04e\" href=\"#view-view-vertex-resource-3778998e-a031-46bd-9436-02258562f04e\">\n",
       "          <span class=\"material-icons view-vertex-icon\">model_training</span>\n",
       "          <span>View Model Evaluation</span>\n",
       "        </a>\n",
       "        \n",
       "        <script>\n",
       "          (function () {\n",
       "            const link = document.getElementById('view-vertex-resource-3778998e-a031-46bd-9436-02258562f04e');\n",
       "            link.addEventListener('click', (e) => {\n",
       "              if (window.google?.colab?.openUrl) {\n",
       "                window.google.colab.openUrl('https://console.cloud.google.com/vertex-ai/models/locations/us-central1/models/4143699784785461248/versions/1/evaluations/4543694834158603879?project=292219499736');\n",
       "              } else {\n",
       "                window.open('https://console.cloud.google.com/vertex-ai/models/locations/us-central1/models/4143699784785461248/versions/1/evaluations/4543694834158603879?project=292219499736', '_blank');\n",
       "              }\n",
       "              e.stopPropagation();\n",
       "              e.preventDefault();\n",
       "            });\n",
       "          })();\n",
       "        </script>\n",
       "    "
      ],
      "text/plain": [
       "<IPython.core.display.HTML object>"
      ]
     },
     "metadata": {},
     "output_type": "display_data"
    }
   ],
   "source": [
    "evaluation = model.get_model_evaluation().to_dict() # get first evaluation"
   ]
  },
  {
   "cell_type": "code",
   "execution_count": 85,
   "id": "35848c5d-d9af-4109-abd5-f093adba2acc",
   "metadata": {
    "tags": []
   },
   "outputs": [
    {
     "data": {
      "text/plain": [
       "dict_keys(['name', 'metricsSchemaUri', 'metrics', 'createTime', 'sliceDimensions', 'modelExplanation'])"
      ]
     },
     "execution_count": 85,
     "metadata": {},
     "output_type": "execute_result"
    }
   ],
   "source": [
    "evaluation.keys()"
   ]
  },
  {
   "cell_type": "code",
   "execution_count": 86,
   "id": "1763abbd-d2f4-430a-9a03-9e5af413b82a",
   "metadata": {
    "tags": []
   },
   "outputs": [
    {
     "data": {
      "text/plain": [
       "dict_keys(['auPrc', 'auRoc', 'logLoss', 'confusionMatrix', 'confidenceMetrics'])"
      ]
     },
     "execution_count": 86,
     "metadata": {},
     "output_type": "execute_result"
    }
   ],
   "source": [
    "evaluation['metrics'].keys()"
   ]
  },
  {
   "cell_type": "code",
   "execution_count": 87,
   "id": "a562dcf6-02af-4185-96be-5b8b77a5cfd7",
   "metadata": {
    "tags": []
   },
   "outputs": [
    {
     "data": {
      "text/plain": [
       "0.999763"
      ]
     },
     "execution_count": 87,
     "metadata": {},
     "output_type": "execute_result"
    }
   ],
   "source": [
    "evaluation['metrics']['auPrc']"
   ]
  },
  {
   "cell_type": "code",
   "execution_count": 88,
   "id": "45bd1c4b-00a3-4b2c-95a0-bb837307f8a0",
   "metadata": {
    "tags": []
   },
   "outputs": [
    {
     "data": {
      "text/plain": [
       "{'falseNegativeCount': '5',\n",
       " 'recallAt1': 0.9997472,\n",
       " 'falsePositiveRateAt1': 0.00025276234,\n",
       " 'truePositiveCount': '27689',\n",
       " 'recall': 0.99981946,\n",
       " 'trueNegativeCount': '27624',\n",
       " 'confidenceThreshold': 0.01,\n",
       " 'falsePositiveRate': 0.0025276232,\n",
       " 'precisionAt1': 0.9997472,\n",
       " 'confusionMatrix': {'rows': [[27666.0, 1.0, 0.0],\n",
       "   [6.0, 21.0, 0.0],\n",
       "   [0.0, 0.0, 0.0]],\n",
       "  'annotationSpecs': [{'displayName': '0', 'id': '0'},\n",
       "   {'displayName': '1', 'id': '1'},\n",
       "   {'displayName': 'DROPPED', 'id': 'DROPPED'}]},\n",
       " 'precision': 0.9974783,\n",
       " 'f1ScoreAt1': 0.9997472,\n",
       " 'f1ScoreMacro': 0.7243001,\n",
       " 'f1Score': 0.9986475,\n",
       " 'falsePositiveCount': '70',\n",
       " 'f1ScoreMicro': 0.9986475}"
      ]
     },
     "execution_count": 88,
     "metadata": {},
     "output_type": "execute_result"
    }
   ],
   "source": [
    "evaluation['metrics']['confidenceMetrics'][3]"
   ]
  },
  {
   "cell_type": "markdown",
   "id": "39aa9551-2e4a-4673-b0d5-1ddec1233e0e",
   "metadata": {},
   "source": [
    "Review several of the metrics included in the evaluation.  Also, compare these to the results in the console view."
   ]
  },
  {
   "cell_type": "code",
   "execution_count": 89,
   "id": "bedd8a0e-cb68-4c45-bb58-c8622b9b0a96",
   "metadata": {
    "tags": []
   },
   "outputs": [
    {
     "name": "stdout",
     "output_type": "stream",
     "text": [
      "Review this model in the console:\n",
      "https://console.cloud.google.com/vertex-ai/locations/us-central1/models/4143699784785461248/versions/1/evaluations/4543694834158603879?project=genai-demo-2024\n"
     ]
    }
   ],
   "source": [
    "print(f\"Review this model in the console:\\nhttps://console.cloud.google.com/vertex-ai/locations/{REGION}/models/{model.name}/versions/{model.version_id}/evaluations/{evaluation['name'].split('/')[-1]}?project={PROJECT_ID}\")"
   ]
  },
  {
   "cell_type": "code",
   "execution_count": 90,
   "id": "8dd6e04f-c0ec-4ad1-a8be-460cddcb0267",
   "metadata": {
    "tags": []
   },
   "outputs": [
    {
     "data": {
      "text/plain": [
       "0.999763"
      ]
     },
     "execution_count": 90,
     "metadata": {},
     "output_type": "execute_result"
    }
   ],
   "source": [
    "evaluation['metrics']['auPrc']"
   ]
  },
  {
   "cell_type": "code",
   "execution_count": 91,
   "id": "edd9892b-eeac-4a64-aa9b-68a7a45a3e76",
   "metadata": {
    "tags": []
   },
   "outputs": [
    {
     "name": "stdout",
     "output_type": "stream",
     "text": [
      "True Label =  0  has Predicted labels =  [27666.0, 1.0, 0.0]\n",
      "True Label =  1  has Predicted labels =  [6.0, 21.0, 0.0]\n",
      "True Label =  DROPPED  has Predicted labels =  [0.0, 0.0, 0.0]\n"
     ]
    }
   ],
   "source": [
    "for i in range(len(evaluation['metrics']['confusionMatrix']['annotationSpecs'])):\n",
    "    print('True Label = ', evaluation['metrics']['confusionMatrix']['annotationSpecs'][i]['displayName'], ' has Predicted labels = ', evaluation['metrics']['confusionMatrix']['rows'][i])"
   ]
  },
  {
   "cell_type": "markdown",
   "id": "2266afe6-be3f-4565-afd9-cb839682df2c",
   "metadata": {},
   "source": [
    "For models with labels you can retrieve the evaluation metrics for each slice of the model as well using the .gapic api version:"
   ]
  },
  {
   "cell_type": "code",
   "execution_count": 92,
   "id": "703ce330-8b74-44ff-a71f-f7670a1d924f",
   "metadata": {
    "tags": []
   },
   "outputs": [],
   "source": [
    "model_client = aiplatform.gapic.ModelServiceClient(\n",
    "    client_options = {\n",
    "        'api_endpoint' : f'{REGION}-aiplatform.googleapis.com'\n",
    "    }\n",
    ")"
   ]
  },
  {
   "cell_type": "code",
   "execution_count": 93,
   "id": "045a6f0d-ab29-4825-a29e-335f5a1727e1",
   "metadata": {
    "tags": []
   },
   "outputs": [],
   "source": [
    "slices = model_client.list_model_evaluation_slices(parent = evaluation['name'])"
   ]
  },
  {
   "cell_type": "code",
   "execution_count": 94,
   "id": "4b7b5c5a-d43c-4c77-8806-fa92f6438e19",
   "metadata": {
    "tags": []
   },
   "outputs": [
    {
     "name": "stdout",
     "output_type": "stream",
     "text": [
      "Label =  0 has auPrc =  0.9998186\n",
      "Label =  1 has auPrc =  0.7938121\n"
     ]
    }
   ],
   "source": [
    "for slice in slices:\n",
    "    print('Label = ', slice.slice_.value, 'has auPrc = ', slice.metrics['auPrc'])"
   ]
  },
  {
   "cell_type": "markdown",
   "id": "3829782e",
   "metadata": {},
   "source": [
    "---\n",
    "## Prediction"
   ]
  },
  {
   "cell_type": "markdown",
   "id": "0269e25d",
   "metadata": {},
   "source": [
    "### Prepare a record for prediction: instance and parameters lists"
   ]
  },
  {
   "cell_type": "code",
   "execution_count": 116,
   "id": "5bda8542",
   "metadata": {
    "tags": []
   },
   "outputs": [],
   "source": [
    "pred = bq.query(\n",
    "    query = f\"\"\"\n",
    "        SELECT * EXCEPT({VAR_TARGET}, splits, transaction_id, Feedback)\n",
    "        FROM {BQ_PROJECT}.{BQ_DATASET}.{BQ_TABLE}_prepped\n",
    "        WHERE splits='TEST'\n",
    "        LIMIT 10\n",
    "    \"\"\"\n",
    ").to_dataframe()"
   ]
  },
  {
   "cell_type": "code",
   "execution_count": 117,
   "id": "bb5a77b7",
   "metadata": {
    "tags": []
   },
   "outputs": [
    {
     "data": {
      "text/html": [
       "<div>\n",
       "<style scoped>\n",
       "    .dataframe tbody tr th:only-of-type {\n",
       "        vertical-align: middle;\n",
       "    }\n",
       "\n",
       "    .dataframe tbody tr th {\n",
       "        vertical-align: top;\n",
       "    }\n",
       "\n",
       "    .dataframe thead th {\n",
       "        text-align: right;\n",
       "    }\n",
       "</style>\n",
       "<table border=\"1\" class=\"dataframe\">\n",
       "  <thead>\n",
       "    <tr style=\"text-align: right;\">\n",
       "      <th></th>\n",
       "      <th>Time</th>\n",
       "      <th>V1</th>\n",
       "      <th>V2</th>\n",
       "      <th>V3</th>\n",
       "      <th>V4</th>\n",
       "      <th>V5</th>\n",
       "      <th>V6</th>\n",
       "      <th>V7</th>\n",
       "      <th>V8</th>\n",
       "      <th>V9</th>\n",
       "      <th>...</th>\n",
       "      <th>V20</th>\n",
       "      <th>V21</th>\n",
       "      <th>V22</th>\n",
       "      <th>V23</th>\n",
       "      <th>V24</th>\n",
       "      <th>V25</th>\n",
       "      <th>V26</th>\n",
       "      <th>V27</th>\n",
       "      <th>V28</th>\n",
       "      <th>Amount</th>\n",
       "    </tr>\n",
       "  </thead>\n",
       "  <tbody>\n",
       "    <tr>\n",
       "      <th>0</th>\n",
       "      <td>135426.0</td>\n",
       "      <td>2.132591</td>\n",
       "      <td>-0.079070</td>\n",
       "      <td>-2.347959</td>\n",
       "      <td>0.060631</td>\n",
       "      <td>0.866875</td>\n",
       "      <td>-0.526201</td>\n",
       "      <td>0.438905</td>\n",
       "      <td>-0.192546</td>\n",
       "      <td>0.160300</td>\n",
       "      <td>...</td>\n",
       "      <td>-0.281757</td>\n",
       "      <td>0.085068</td>\n",
       "      <td>0.315750</td>\n",
       "      <td>-0.067077</td>\n",
       "      <td>0.133487</td>\n",
       "      <td>0.401384</td>\n",
       "      <td>0.704240</td>\n",
       "      <td>-0.132129</td>\n",
       "      <td>-0.098000</td>\n",
       "      <td>0.760000</td>\n",
       "    </tr>\n",
       "    <tr>\n",
       "      <th>1</th>\n",
       "      <td>97430.0</td>\n",
       "      <td>0.168853</td>\n",
       "      <td>0.136885</td>\n",
       "      <td>1.892742</td>\n",
       "      <td>-0.242915</td>\n",
       "      <td>-0.184315</td>\n",
       "      <td>-0.024114</td>\n",
       "      <td>0.012281</td>\n",
       "      <td>-0.310277</td>\n",
       "      <td>2.110540</td>\n",
       "      <td>...</td>\n",
       "      <td>-0.045857</td>\n",
       "      <td>-0.045172</td>\n",
       "      <td>0.519687</td>\n",
       "      <td>0.061692</td>\n",
       "      <td>0.041079</td>\n",
       "      <td>-1.382377</td>\n",
       "      <td>0.295097</td>\n",
       "      <td>-0.337653</td>\n",
       "      <td>-0.351998</td>\n",
       "      <td>14.950000</td>\n",
       "    </tr>\n",
       "    <tr>\n",
       "      <th>2</th>\n",
       "      <td>40864.0</td>\n",
       "      <td>0.491464</td>\n",
       "      <td>-0.946247</td>\n",
       "      <td>-0.345005</td>\n",
       "      <td>1.495592</td>\n",
       "      <td>-0.019860</td>\n",
       "      <td>0.454469</td>\n",
       "      <td>0.629021</td>\n",
       "      <td>-0.123851</td>\n",
       "      <td>0.138186</td>\n",
       "      <td>...</td>\n",
       "      <td>0.679091</td>\n",
       "      <td>0.085650</td>\n",
       "      <td>-0.320323</td>\n",
       "      <td>-0.513776</td>\n",
       "      <td>-0.709041</td>\n",
       "      <td>0.672462</td>\n",
       "      <td>-0.304324</td>\n",
       "      <td>-0.025661</td>\n",
       "      <td>0.075820</td>\n",
       "      <td>387.790009</td>\n",
       "    </tr>\n",
       "    <tr>\n",
       "      <th>3</th>\n",
       "      <td>30606.0</td>\n",
       "      <td>-0.462273</td>\n",
       "      <td>-0.355619</td>\n",
       "      <td>2.048961</td>\n",
       "      <td>-1.706096</td>\n",
       "      <td>-1.085680</td>\n",
       "      <td>-0.303081</td>\n",
       "      <td>-0.704979</td>\n",
       "      <td>-0.057419</td>\n",
       "      <td>-2.316110</td>\n",
       "      <td>...</td>\n",
       "      <td>-0.171561</td>\n",
       "      <td>-0.032267</td>\n",
       "      <td>0.285379</td>\n",
       "      <td>-0.358489</td>\n",
       "      <td>-0.109457</td>\n",
       "      <td>0.220757</td>\n",
       "      <td>0.050688</td>\n",
       "      <td>0.006466</td>\n",
       "      <td>0.062116</td>\n",
       "      <td>18.400000</td>\n",
       "    </tr>\n",
       "  </tbody>\n",
       "</table>\n",
       "<p>4 rows × 30 columns</p>\n",
       "</div>"
      ],
      "text/plain": [
       "       Time        V1        V2        V3        V4        V5        V6  \\\n",
       "0  135426.0  2.132591 -0.079070 -2.347959  0.060631  0.866875 -0.526201   \n",
       "1   97430.0  0.168853  0.136885  1.892742 -0.242915 -0.184315 -0.024114   \n",
       "2   40864.0  0.491464 -0.946247 -0.345005  1.495592 -0.019860  0.454469   \n",
       "3   30606.0 -0.462273 -0.355619  2.048961 -1.706096 -1.085680 -0.303081   \n",
       "\n",
       "         V7        V8        V9  ...       V20       V21       V22       V23  \\\n",
       "0  0.438905 -0.192546  0.160300  ... -0.281757  0.085068  0.315750 -0.067077   \n",
       "1  0.012281 -0.310277  2.110540  ... -0.045857 -0.045172  0.519687  0.061692   \n",
       "2  0.629021 -0.123851  0.138186  ...  0.679091  0.085650 -0.320323 -0.513776   \n",
       "3 -0.704979 -0.057419 -2.316110  ... -0.171561 -0.032267  0.285379 -0.358489   \n",
       "\n",
       "        V24       V25       V26       V27       V28      Amount  \n",
       "0  0.133487  0.401384  0.704240 -0.132129 -0.098000    0.760000  \n",
       "1  0.041079 -1.382377  0.295097 -0.337653 -0.351998   14.950000  \n",
       "2 -0.709041  0.672462 -0.304324 -0.025661  0.075820  387.790009  \n",
       "3 -0.109457  0.220757  0.050688  0.006466  0.062116   18.400000  \n",
       "\n",
       "[4 rows x 30 columns]"
      ]
     },
     "execution_count": 117,
     "metadata": {},
     "output_type": "execute_result"
    }
   ],
   "source": [
    "pred.head(4)"
   ]
  },
  {
   "cell_type": "code",
   "execution_count": 118,
   "id": "4c32ed6b",
   "metadata": {
    "tags": []
   },
   "outputs": [],
   "source": [
    "import pandas as pd\n",
    "pred['Time'] = pd.to_numeric(pred['Time'], errors='coerce')\n",
    "\n",
    "\n",
    "# Now convert your DataFrame to a dictionary\n",
    "newobs = pred.to_dict(orient='records')"
   ]
  },
  {
   "cell_type": "markdown",
   "id": "c2fde74e",
   "metadata": {},
   "source": [
    "Need to understand the format of variables that the predictions expect.  AutoML may convert the type of some variables. The following cells retrieve the model from the endpoint and its schemata:"
   ]
  },
  {
   "cell_type": "code",
   "execution_count": null,
   "id": "d438383e",
   "metadata": {
    "tags": []
   },
   "outputs": [],
   "source": [
    "# Parse the dictionary to the format expected by the model for prediction\n",
    "instances = [json_format.ParseDict(newob, Value()) for newob in newobs]\n",
    "#instances"
   ]
  },
  {
   "cell_type": "markdown",
   "id": "ec61f206",
   "metadata": {},
   "source": [
    "### Get Predictions: Python Client"
   ]
  },
  {
   "cell_type": "code",
   "execution_count": 120,
   "id": "116fefd9-e7c7-4971-8e6b-d630469f2330",
   "metadata": {
    "tags": []
   },
   "outputs": [
    {
     "data": {
      "text/plain": [
       "[<google.cloud.aiplatform.models.Endpoint object at 0x7fdeb2291210> \n",
       " resource name: projects/292219499736/locations/us-central1/endpoints/3365532524854902784]"
      ]
     },
     "execution_count": 120,
     "metadata": {},
     "output_type": "execute_result"
    }
   ],
   "source": [
    "aiplatform.Endpoint.list(filter=f'labels.notebook={NOTEBOOK}')"
   ]
  },
  {
   "cell_type": "code",
   "execution_count": 121,
   "id": "279cf479",
   "metadata": {
    "tags": []
   },
   "outputs": [
    {
     "data": {
      "text/plain": [
       "'03_ulb_fraud_detection_20240409142755'"
      ]
     },
     "execution_count": 121,
     "metadata": {},
     "output_type": "execute_result"
    }
   ],
   "source": [
    "# Proceed with getting the endpoint and making a prediction\n",
    "endpoint = aiplatform.Endpoint.list(filter=f'labels.notebook={NOTEBOOK}')[0]\n",
    "endpoint.display_name"
   ]
  },
  {
   "cell_type": "code",
   "execution_count": 122,
   "id": "c7c298d5",
   "metadata": {
    "tags": []
   },
   "outputs": [
    {
     "data": {
      "text/plain": [
       "{'classes': ['0', '1'], 'scores': [0.9998624324798584, 0.0001375129650114104]}"
      ]
     },
     "execution_count": 122,
     "metadata": {},
     "output_type": "execute_result"
    }
   ],
   "source": [
    "prediction = endpoint.predict(instances = instances) # or instances = newobs\n",
    "#prediction\n",
    "prediction.predictions[0]"
   ]
  },
  {
   "cell_type": "code",
   "execution_count": 123,
   "id": "1323d595",
   "metadata": {
    "tags": []
   },
   "outputs": [
    {
     "data": {
      "text/plain": [
       "'0'"
      ]
     },
     "execution_count": 123,
     "metadata": {},
     "output_type": "execute_result"
    }
   ],
   "source": [
    "prediction.predictions[0]['classes'][np.argmax(prediction.predictions[0]['scores'])]"
   ]
  },
  {
   "cell_type": "markdown",
   "id": "f68781f2",
   "metadata": {},
   "source": [
    "### Get Predictions: REST"
   ]
  },
  {
   "cell_type": "code",
   "execution_count": 124,
   "id": "f6b3a5b9",
   "metadata": {
    "tags": []
   },
   "outputs": [],
   "source": [
    "with open(f'{DIR}/request.json','w') as file:\n",
    "    file.write(json.dumps({\"instances\": [newobs[0]]}))"
   ]
  },
  {
   "cell_type": "code",
   "execution_count": 125,
   "id": "6e7b1b91",
   "metadata": {
    "tags": []
   },
   "outputs": [
    {
     "name": "stdout",
     "output_type": "stream",
     "text": [
      "{\n",
      "  \"predictions\": [\n",
      "    {\n",
      "      \"classes\": [\n",
      "        \"0\",\n",
      "        \"1\"\n",
      "      ],\n",
      "      \"scores\": [\n",
      "        0.9998624324798584,\n",
      "        0.00013751296501141039\n",
      "      ]\n",
      "    }\n",
      "  ],\n",
      "  \"deployedModelId\": \"5042516455631880192\",\n",
      "  \"model\": \"projects/292219499736/locations/us-central1/models/4143699784785461248\",\n",
      "  \"modelDisplayName\": \"03_ulb_fraud_detection_20240409142755\",\n",
      "  \"modelVersionId\": \"1\"\n",
      "}\n"
     ]
    }
   ],
   "source": [
    "!curl -X POST \\\n",
    "-H \"Authorization: Bearer \"$(gcloud auth application-default print-access-token) \\\n",
    "-H \"Content-Type: application/json; charset=utf-8\" \\\n",
    "-d @{DIR}/request.json \\\n",
    "https://{REGION}-aiplatform.googleapis.com/v1/{endpoint.resource_name}:predict"
   ]
  },
  {
   "cell_type": "markdown",
   "id": "7b428c9d",
   "metadata": {},
   "source": [
    "### Get Predictions: gcloud (CLI)"
   ]
  },
  {
   "cell_type": "code",
   "execution_count": 126,
   "id": "d3523017",
   "metadata": {
    "tags": []
   },
   "outputs": [
    {
     "name": "stdout",
     "output_type": "stream",
     "text": [
      "Using endpoint [https://us-central1-prediction-aiplatform.googleapis.com/]\n",
      "[{'classes': ['0', '1'], 'scores': [0.9998624324798584, 0.0001375129650114104]}]\n"
     ]
    }
   ],
   "source": [
    "!gcloud beta ai endpoints predict {endpoint.name.rsplit('/',1)[-1]} --region={REGION} --json-request={DIR}/request.json"
   ]
  },
  {
   "cell_type": "markdown",
   "id": "3d0d825b",
   "metadata": {},
   "source": [
    "## Explanations\n",
    "Interpretation Guide\n",
    "- https://cloud.google.com/vertex-ai/docs/predictions/interpreting-results-automl#tabular"
   ]
  },
  {
   "cell_type": "code",
   "execution_count": 127,
   "id": "80280fc8",
   "metadata": {
    "tags": []
   },
   "outputs": [],
   "source": [
    "explanation = endpoint.explain(instances = instances)"
   ]
  },
  {
   "cell_type": "code",
   "execution_count": 128,
   "id": "6b2a6912",
   "metadata": {
    "tags": []
   },
   "outputs": [
    {
     "data": {
      "text/plain": [
       "{'classes': ['0', '1'], 'scores': [0.9998624324798584, 0.0001375129650114104]}"
      ]
     },
     "execution_count": 128,
     "metadata": {},
     "output_type": "execute_result"
    }
   ],
   "source": [
    "explanation.predictions[0]"
   ]
  },
  {
   "cell_type": "code",
   "execution_count": 129,
   "id": "a862b22a",
   "metadata": {
    "tags": []
   },
   "outputs": [
    {
     "name": "stdout",
     "output_type": "stream",
     "text": [
      "attribution:\n",
      "baseline output 0.999984085559845\n",
      "instance output 0.9998624324798584\n",
      "output_index [0]\n",
      "output display value 0\n",
      "approximation error 0.006948239931506695\n"
     ]
    }
   ],
   "source": [
    "print(\"attribution:\")\n",
    "print(\"baseline output\",explanation.explanations[0].attributions[0].baseline_output_value)\n",
    "print(\"instance output\",explanation.explanations[0].attributions[0].instance_output_value)\n",
    "print(\"output_index\",explanation.explanations[0].attributions[0].output_index)\n",
    "print(\"output display value\",explanation.explanations[0].attributions[0].output_display_name)\n",
    "print(\"approximation error\",explanation.explanations[0].attributions[0].approximation_error)"
   ]
  },
  {
   "cell_type": "code",
   "execution_count": 130,
   "id": "6afdc889-9620-4e5c-adf9-5ecf2238ad75",
   "metadata": {
    "tags": []
   },
   "outputs": [
    {
     "data": {
      "image/png": "[encoded data removed]",
      "text/plain": [
       "<Figure size 900x900 with 1 Axes>"
      ]
     },
     "metadata": {},
     "output_type": "display_data"
    }
   ],
   "source": [
    "import matplotlib.pyplot as plt\n",
    "features = []\n",
    "scores = []\n",
    "for k in explanation.explanations[0].attributions[0].feature_attributions:\n",
    "    features.append(k)\n",
    "    scores.append(explanation.explanations[0].attributions[0].feature_attributions[k])\n",
    "features = [x for _, x in sorted(zip(scores, features))]\n",
    "scores = sorted(scores)\n",
    "fig, ax = plt.subplots()\n",
    "fig.set_size_inches(9, 9)\n",
    "ax.barh(features, scores)\n",
    "fig.show()"
   ]
  },
  {
   "cell_type": "markdown",
   "id": "1a12e906",
   "metadata": {},
   "source": [
    "---\n",
    "## Batch Predictions: BigQuery Source to BigQuery Destination, with Explanations"
   ]
  },
  {
   "cell_type": "code",
   "execution_count": null,
   "id": "7145bae3",
   "metadata": {
    "tags": []
   },
   "outputs": [
    {
     "name": "stdout",
     "output_type": "stream",
     "text": [
      "Creating BatchPredictionJob\n",
      "BatchPredictionJob created. Resource name: projects/292219499736/locations/us-central1/batchPredictionJobs/1664064703510347776\n",
      "To use this BatchPredictionJob in another session:\n",
      "bpj = aiplatform.BatchPredictionJob('projects/292219499736/locations/us-central1/batchPredictionJobs/1664064703510347776')\n",
      "View Batch Prediction Job:\n",
      "https://console.cloud.google.com/ai/platform/locations/us-central1/batch-predictions/1664064703510347776?project=292219499736\n"
     ]
    }
   ],
   "source": [
    "batch = aiplatform.BatchPredictionJob.create(\n",
    "    job_display_name = f'{NOTEBOOK}_{BQ_TABLE}_{TIMESTAMP}',\n",
    "    model_name = endpoint.list_models()[0].model,\n",
    "    instances_format = \"bigquery\",\n",
    "    predictions_format = \"bigquery\",\n",
    "    bigquery_source = f'bq://{BQ_PROJECT}.{BQ_DATASET}.{BQ_TABLE}_prepped',\n",
    "    bigquery_destination_prefix = f\"{PROJECT_ID}\",\n",
    "    generate_explanation=True,\n",
    "    labels = {'notebook':f'{NOTEBOOK}'}\n",
    ")"
   ]
  }
 ],
 "metadata": {
  "environment": {
   "kernel": "python3",
   "name": "tf2-cpu.2-11.m119",
   "type": "gcloud",
   "uri": "us-docker.pkg.dev/deeplearning-platform-release/gcr.io/tf2-cpu.2-11:m119"
  },
  "kernelspec": {
   "display_name": "Python 3",
   "language": "python",
   "name": "python3"
  },
  "language_info": {
   "codemirror_mode": {
    "name": "ipython",
    "version": 3
   },
   "file_extension": ".py",
   "mimetype": "text/x-python",
   "name": "python",
   "nbconvert_exporter": "python",
   "pygments_lexer": "ipython3",
   "version": "3.10.14"
  }
 },
 "nbformat": 4,
 "nbformat_minor": 5
}
